{
 "cells": [
  {
   "cell_type": "code",
   "execution_count": 1,
   "metadata": {},
   "outputs": [],
   "source": [
    "import os\n",
    "from m_libri_generator import get_file_dict_libri\n",
    "import numpy as np\n",
    "import torch.nn.functional as F\n",
    "import torch\n",
    "import random\n",
    "import matplotlib.pyplot as plt\n",
    "import tuneThreshold\n",
    "import csv"
   ]
  },
  {
   "cell_type": "code",
   "execution_count": 2,
   "metadata": {},
   "outputs": [],
   "source": [
    "EMB_PATH = \"../libri_emb/base/\"\n",
    "# EMB_PATH = \"../libri_emb/trimmed/\"\n",
    "# EMB_PATH = \"../libri_emb/uneval/\""
   ]
  },
  {
   "cell_type": "code",
   "execution_count": 3,
   "metadata": {},
   "outputs": [],
   "source": [
    "npy_list = os.listdir(EMB_PATH)\n",
    "npy_list = [i for i in npy_list if str.find(i, \"npy\") != -1]\n",
    "\n",
    "spk_emb_dict = {}\n",
    "for emb in npy_list:\n",
    "    emb_spk = int(emb[3:-4])\n",
    "    emb_mat = np.load(EMB_PATH+emb)\n",
    "    \n",
    "    emb_mat = torch.tensor(emb_mat)\n",
    "    spk_emb_dict[emb_spk] = emb_mat\n",
    "\n",
    "spk_list = list(spk_emb_dict.keys())"
   ]
  },
  {
   "cell_type": "code",
   "execution_count": 4,
   "metadata": {},
   "outputs": [],
   "source": [
    "spk_npy_dict = {}\n",
    "for spk in spk_list:\n",
    "    structure_dict = {}\n",
    "    csv_file = open(EMB_PATH+'op_{}.csv'.format(spk), 'r')\n",
    "    csv_reader = csv.reader(csv_file)\n",
    "    \n",
    "    for row in csv_reader:\n",
    "        wav_idx = int(row[0])\n",
    "        wav_name = row[1]\n",
    "        wav_cat = int(row[1].split('-')[1])\n",
    "        \n",
    "        cat_list = structure_dict.get(wav_cat, [])\n",
    "        cat_list.append(wav_idx)\n",
    "        structure_dict[wav_cat] = cat_list\n",
    "    \n",
    "    spk_npy_dict[spk] = structure_dict\n",
    "    csv_file.close()"
   ]
  },
  {
   "cell_type": "code",
   "execution_count": 5,
   "metadata": {},
   "outputs": [],
   "source": [
    "# 단일 발화 EER - original\n",
    "\n",
    "def eer_original(iter=10, diff_cat_flag=False):\n",
    "    d0_same = []\n",
    "    d0_diff = []\n",
    "    \n",
    "    for i in range(iter):        \n",
    "        for spk in spk_list:\n",
    "            \n",
    "            # same spk\n",
    "            emb_mat = spk_emb_dict[spk]\n",
    "            \n",
    "            # 다른 카테고리 flag\n",
    "            if diff_cat_flag:\n",
    "                npy_dict = spk_npy_dict[spk]\n",
    "                cats = list(npy_dict.keys())\n",
    "                \n",
    "                # 화자의 카테고리 수가 1인 경우, 다른 카테고리에서 두개 뽑는게 불가능하므로 넘김.\n",
    "                if len(cats) == 1:\n",
    "                    continue\n",
    "                \n",
    "                selected_cats = random.sample(cats, 2)\n",
    "                cat_list1 = npy_dict[selected_cats[0]]\n",
    "                cat_list2 = npy_dict[selected_cats[1]]\n",
    "                \n",
    "                indices = []\n",
    "                indices.append(random.choice(cat_list1))\n",
    "                indices.append(random.choice(cat_list2))\n",
    "            \n",
    "            else:\n",
    "                indices = random.sample(range(emb_mat.shape[0]), 2)\n",
    "            \n",
    "            emb1 = emb_mat[indices[0]]\n",
    "            emb2 = emb_mat[indices[1]]\n",
    "            \n",
    "            emb1 = F.normalize(emb1, p=2, dim=1)\n",
    "            emb2 = F.normalize(emb2, p=2, dim=1)\n",
    "            d0_same.append(torch.cdist(emb1, emb2, p=2).mean().item())\n",
    "            \n",
    "            # diff spk\n",
    "            indices = random.sample(spk_list, 2)\n",
    "            emb_mat1 = spk_emb_dict[indices[0]]\n",
    "            emb_mat2 = spk_emb_dict[indices[1]]\n",
    "            emb1 = random.choice(emb_mat1)\n",
    "            emb2 = random.choice(emb_mat2)\n",
    "            \n",
    "            emb1 = F.normalize(emb1, p=2, dim=1)\n",
    "            emb2 = F.normalize(emb2, p=2, dim=1)\n",
    "            d0_diff.append(torch.cdist(emb1, emb2, p=2).mean().item())\n",
    "\n",
    "    fig, ax = plt.subplots()\n",
    "    plt.boxplot([d0_same, d0_diff], positions=[1,0])\n",
    "    ax.set_xlabel('Label')\n",
    "    ax.set_ylabel('Distance')\n",
    "    plt.show()\n",
    "\n",
    "    d0 = d0_same + d0_diff\n",
    "    s0 = [-1*i for i in d0]\n",
    "    label_same = np.ones(len(d0_same))\n",
    "    label_diff = np.zeros(len(d0_diff))\n",
    "    label = list(np.concatenate([label_same, label_diff]))\n",
    "    (tt0, eer0, fpr0, fnr0) = tuneThreshold.tuneThresholdfromScore(s0, label, [1, 0.1])\n",
    "    \n",
    "    return eer0"
   ]
  },
  {
   "cell_type": "code",
   "execution_count": 6,
   "metadata": {},
   "outputs": [],
   "source": [
    "def eer_single_normalize(iter=10, flag=0, diff_cat_flag=False):\n",
    "    '''\n",
    "    flag(0): normalize before frame-by average\n",
    "    flag(1): normalize after frame-by average\n",
    "    '''\n",
    "    assert flag == 0 or flag == 1\n",
    "    \n",
    "    d1_same = []\n",
    "    d1_diff = []\n",
    "    \n",
    "    for i in range(iter):\n",
    "        for spk in spk_list:\n",
    "\n",
    "            # same spk\n",
    "            emb_mat = spk_emb_dict[spk] # n_utter, 10, 512\n",
    "            \n",
    "            # 다른 카테고리 flag\n",
    "            if diff_cat_flag:\n",
    "                npy_dict = spk_npy_dict[spk]\n",
    "                cats = list(npy_dict.keys())\n",
    "                \n",
    "                # 화자의 카테고리 수가 1인 경우, 다른 카테고리에서 두개 뽑는게 불가능하므로 넘김.\n",
    "                if len(cats) == 1:\n",
    "                    continue\n",
    "                \n",
    "                selected_cats = random.sample(cats, 2)\n",
    "                cat_list1 = npy_dict[selected_cats[0]]\n",
    "                cat_list2 = npy_dict[selected_cats[1]]\n",
    "                \n",
    "                indices = []\n",
    "                indices.append(random.choice(cat_list1))\n",
    "                indices.append(random.choice(cat_list2))\n",
    "            \n",
    "            else:\n",
    "                indices = random.sample(range(emb_mat.shape[0]), 2)\n",
    "            \n",
    "                \n",
    "            emb1 = emb_mat[indices[0]]\n",
    "            emb2 = emb_mat[indices[1]]\n",
    "            \n",
    "            if flag == 0:                \n",
    "                emb1 = F.normalize(emb1, p=2, dim=1)\n",
    "                emb2 = F.normalize(emb2, p=2, dim=1)\n",
    "                emb1 = emb1.mean(dim=0)\n",
    "                emb2 = emb2.mean(dim=0)\n",
    "            else:\n",
    "                emb1 = emb1.mean(dim=0)\n",
    "                emb2 = emb2.mean(dim=0)\n",
    "                emb1 = F.normalize(emb1, p=2, dim=0)\n",
    "                emb2 = F.normalize(emb2, p=2, dim=0)\n",
    "            \n",
    "            d1_same.append(torch.dist(emb1, emb2, p=2))\n",
    "            \n",
    "            \n",
    "            \n",
    "            # diff spk\n",
    "            indices = random.sample(spk_list, 2)\n",
    "            emb_mat1 = spk_emb_dict[indices[0]] # n_utter, 10, 512\n",
    "            emb_mat2 = spk_emb_dict[indices[1]] # n_utter, 10, 512\n",
    "            \n",
    "            emb1 = random.choice(emb_mat1)\n",
    "            emb2 = random.choice(emb_mat2)\n",
    "            \n",
    "            if flag == 0:\n",
    "                emb1 = F.normalize(emb1, p=2, dim=1)\n",
    "                emb2 = F.normalize(emb2, p=2, dim=1)\n",
    "                emb1 = emb1.mean(dim=0)\n",
    "                emb2 = emb2.mean(dim=0)     \n",
    "            else:\n",
    "                emb1 = emb1.mean(dim=0)\n",
    "                emb2 = emb2.mean(dim=0)\n",
    "                emb1 = F.normalize(emb1, p=2, dim=0)\n",
    "                emb2 = F.normalize(emb2, p=2, dim=0)      \n",
    "\n",
    "            d1_diff.append(torch.dist(emb1, emb2, p=2))\n",
    "\n",
    "    fig, ax = plt.subplots()\n",
    "    plt.boxplot([d1_same, d1_diff], positions=[1,0])\n",
    "    ax.set_xlabel('Label')\n",
    "    ax.set_ylabel('Distance')\n",
    "\n",
    "    plt.show()\n",
    "\n",
    "    d1 = d1_same + d1_diff\n",
    "    s1 = [-1*i for i in d1]\n",
    "    label_same = np.ones(len(d1_same))\n",
    "    label_diff = np.zeros(len(d1_diff))\n",
    "    label = list(np.concatenate([label_same, label_diff]))\n",
    "    (tt1, eer1, fpr1, fnr1) = tuneThreshold.tuneThresholdfromScore(s1, label, [1, 0.1])\n",
    "    \n",
    "    return eer1"
   ]
  },
  {
   "cell_type": "code",
   "execution_count": 7,
   "metadata": {},
   "outputs": [],
   "source": [
    "def eer_multiple_normalize(iter=10, flag=0, n_utter=3, diff_cat_flag=False):\n",
    "    \n",
    "    '''\n",
    "    flag(0): normalize before frame-by average\n",
    "    flag(1): normalize between frame-by average and utterance-by average\n",
    "    flag(2): normalize after utterance-by average\n",
    "    '''\n",
    "    \n",
    "    assert flag == 0 or flag == 1 or flag == 2\n",
    "    \n",
    "    d2_same = []\n",
    "    d2_diff = []\n",
    "    for i in range(iter):\n",
    "        for spk in spk_list:\n",
    "            \n",
    "            # same spk\n",
    "            emb_mat = spk_emb_dict[spk] # n_utter, 10, 512\n",
    "            \n",
    "            # 다른 카테고리 flag\n",
    "            if diff_cat_flag:\n",
    "                npy_dict = spk_npy_dict[spk]\n",
    "                cats = list(npy_dict.keys())\n",
    "                \n",
    "                # 화자의 카테고리 수가 1인 경우, 다른 카테고리에서 두개 뽑는게 불가능하므로 넘김.\n",
    "                if len(cats) == 1:\n",
    "                    continue\n",
    "                \n",
    "                selected_cats = random.sample(cats, 2)\n",
    "                cat_list1 = npy_dict[selected_cats[0]]\n",
    "                cat_list2 = npy_dict[selected_cats[1]]\n",
    "                indices1 = random.sample(cat_list1, n_utter)\n",
    "                indices2 = random.sample(cat_list2, n_utter)\n",
    "            \n",
    "            else:\n",
    "                indices = random.sample(range(emb_mat.shape[0]), 2*n_utter)\n",
    "                indices1 = indices[0:n_utter]\n",
    "                indices2 = indices[n_utter:2*n_utter]\n",
    "            \n",
    "            emb1 = torch.index_select(emb_mat, dim=0, index=torch.tensor(indices1)) # 3, 10, 512\n",
    "            emb2 = torch.index_select(emb_mat, dim=0, index=torch.tensor(indices2)) # 3, 10, 512\n",
    "            \n",
    "            if flag == 0:\n",
    "                emb1 = F.normalize(emb1, p=2, dim=2)\n",
    "                emb1 = emb1.mean(dim=1)\n",
    "                emb1 = emb1.mean(dim=0)\n",
    "                emb2 = F.normalize(emb2, p=2, dim=2)\n",
    "                emb2 = emb2.mean(dim=1)\n",
    "                emb2 = emb2.mean(dim=0)\n",
    "            elif flag == 1:\n",
    "                emb1 = emb1.mean(dim=1)\n",
    "                emb1 = F.normalize(emb1, p=2, dim=1)\n",
    "                emb1 = emb1.mean(dim=0)\n",
    "                emb2 = emb2.mean(dim=1)\n",
    "                emb2 = F.normalize(emb2, p=2, dim=1)\n",
    "                emb2 = emb2.mean(dim=0)\n",
    "            else:\n",
    "                emb1 = emb1.mean(dim=1)\n",
    "                emb1 = emb1.mean(dim=0)\n",
    "                emb1 = F.normalize(emb1, p=2, dim=0)\n",
    "                emb2 = emb2.mean(dim=1)\n",
    "                emb2 = emb2.mean(dim=0)\n",
    "                emb2 = F.normalize(emb2, p=2, dim=0)\n",
    "                \n",
    "            d2_same.append(torch.dist(emb1, emb2, p=2))\n",
    "            \n",
    "            # diff spk\n",
    "            indices = random.sample(spk_list, 2)\n",
    "            emb_mat1 = spk_emb_dict[indices[0]] # n_utter, 10, 512\n",
    "            emb_mat2 = spk_emb_dict[indices[1]] # n_utter, 10, 512\n",
    "            indices1 = random.sample(range(emb_mat1.shape[0]), n_utter)\n",
    "            indices2 = random.sample(range(emb_mat2.shape[0]), n_utter)\n",
    "            \n",
    "            emb1 = torch.index_select(emb_mat1, dim=0, index=torch.tensor(indices1)) # 3, 10, 512\n",
    "            emb2 = torch.index_select(emb_mat2, dim=0, index=torch.tensor(indices2)) # 3, 10, 512\n",
    "            \n",
    "            if flag == 0:\n",
    "                emb1 = F.normalize(emb1, p=2, dim=2)\n",
    "                emb1 = emb1.mean(dim=1)\n",
    "                emb1 = emb1.mean(dim=0)\n",
    "                emb2 = F.normalize(emb2, p=2, dim=2)\n",
    "                emb2 = emb2.mean(dim=1)\n",
    "                emb2 = emb2.mean(dim=0)\n",
    "            elif flag == 1:\n",
    "                emb1 = emb1.mean(dim=1)\n",
    "                emb1 = F.normalize(emb1, p=2, dim=1)\n",
    "                emb1 = emb1.mean(dim=0)\n",
    "                emb2 = emb2.mean(dim=1)\n",
    "                emb2 = F.normalize(emb2, p=2, dim=1)\n",
    "                emb2 = emb2.mean(dim=0)\n",
    "            else:\n",
    "                emb1 = emb1.mean(dim=1)\n",
    "                emb1 = emb1.mean(dim=0)\n",
    "                emb1 = F.normalize(emb1, p=2, dim=0)\n",
    "                emb2 = emb2.mean(dim=1)\n",
    "                emb2 = emb2.mean(dim=0)\n",
    "                emb2 = F.normalize(emb2, p=2, dim=0)\n",
    "                \n",
    "            d2_diff.append(torch.dist(emb1, emb2, p=2))\n",
    "        \n",
    "    fig, ax = plt.subplots()\n",
    "    plt.boxplot([d2_same, d2_diff], positions=[1,0])\n",
    "    ax.set_xlabel('Label')\n",
    "    ax.set_ylabel('Distance')\n",
    "    plt.show()\n",
    "\n",
    "\n",
    "    d2 = d2_same + d2_diff\n",
    "    s2 = [-1*i for i in d2]\n",
    "    label_same = np.ones(len(d2_same))\n",
    "    label_diff = np.zeros(len(d2_diff))\n",
    "    label = list(np.concatenate([label_same, label_diff]))\n",
    "    (tt2, eer2, fpr2, fnr2) = tuneThreshold.tuneThresholdfromScore(s2, label, [1, 0.1])\n",
    "    \n",
    "    \n",
    "    return eer2"
   ]
  },
  {
   "cell_type": "code",
   "execution_count": 23,
   "metadata": {},
   "outputs": [
    {
     "data": {
      "image/png": "[encoded data removed]",
      "text/plain": [
       "<Figure size 432x288 with 1 Axes>"
      ]
     },
     "metadata": {
      "needs_background": "light"
     },
     "output_type": "display_data"
    },
    {
     "name": "stdout",
     "output_type": "stream",
     "text": [
      "original method EER: 0.9203722854188245\n"
     ]
    }
   ],
   "source": [
    "# print(\"original method EER:\", eer_original(iter=10, diff_cat_flag=False))\n",
    "print(\"original method EER:\", eer_original(iter=10, diff_cat_flag=True))"
   ]
  },
  {
   "cell_type": "code",
   "execution_count": 24,
   "metadata": {},
   "outputs": [
    {
     "data": {
      "image/png": "[encoded data removed]",
      "text/plain": [
       "<Figure size 432x288 with 1 Axes>"
      ]
     },
     "metadata": {
      "needs_background": "light"
     },
     "output_type": "display_data"
    },
    {
     "name": "stdout",
     "output_type": "stream",
     "text": [
      "single method EER (normalize before average):  1.3443640124095158\n"
     ]
    },
    {
     "data": {
      "image/png": "[encoded data removed]",
      "text/plain": [
       "<Figure size 432x288 with 1 Axes>"
      ]
     },
     "metadata": {
      "needs_background": "light"
     },
     "output_type": "display_data"
    },
    {
     "name": "stdout",
     "output_type": "stream",
     "text": [
      "single method EER (normalize after average):  0.9100310237849016\n"
     ]
    }
   ],
   "source": [
    "# print(\"single method EER (normalize before average): \", eer_single_normalize(iter=10, flag=0))\n",
    "# print(\"single method EER (normalize after average): \", eer_single_normalize(iter=10, flag=1))\n",
    "\n",
    "print(\"single method EER (normalize before average): \", eer_single_normalize(iter=10, flag=0, diff_cat_flag=True))\n",
    "print(\"single method EER (normalize after average): \", eer_single_normalize(iter=10, flag=1, diff_cat_flag=True))"
   ]
  },
  {
   "cell_type": "code",
   "execution_count": 25,
   "metadata": {},
   "outputs": [
    {
     "data": {
      "image/png": "[encoded data removed]",
      "text/plain": [
       "<Figure size 432x288 with 1 Axes>"
      ]
     },
     "metadata": {
      "needs_background": "light"
     },
     "output_type": "display_data"
    },
    {
     "name": "stdout",
     "output_type": "stream",
     "text": [
      "multiple method EER (normalize before frame-by avg):  0.4446742502585366\n"
     ]
    },
    {
     "data": {
      "image/png": "[encoded data removed]",
      "text/plain": [
       "<Figure size 432x288 with 1 Axes>"
      ]
     },
     "metadata": {
      "needs_background": "light"
     },
     "output_type": "display_data"
    },
    {
     "name": "stdout",
     "output_type": "stream",
     "text": [
      "multiple method EER (normalize between frame-by avg and utter-by avg):  0.5170630816959676\n"
     ]
    },
    {
     "data": {
      "image/png": "[encoded data removed]",
      "text/plain": [
       "<Figure size 432x288 with 1 Axes>"
      ]
     },
     "metadata": {
      "needs_background": "light"
     },
     "output_type": "display_data"
    },
    {
     "name": "stdout",
     "output_type": "stream",
     "text": [
      "multiple method EER (normalize after utter-by avg):  0.5997931747673216\n"
     ]
    }
   ],
   "source": [
    "# print(\"multiple method EER (normalize before frame-by avg): \", eer_multiple_normalize(iter=10, flag=0, n_utter=3))\n",
    "# print(\"multiple method EER (normalize between frame-by avg and utter-by avg): \", eer_multiple_normalize(iter=10, flag=1, n_utter=3))\n",
    "# print(\"multiple method EER (normalize after utter-by avg): \", eer_multiple_normalize(iter=10, flag=2, n_utter=3))\n",
    "\n",
    "print(\"multiple method EER (normalize before frame-by avg): \", eer_multiple_normalize(iter=10, flag=0, n_utter=3, diff_cat_flag=True))\n",
    "print(\"multiple method EER (normalize between frame-by avg and utter-by avg): \", eer_multiple_normalize(iter=10, flag=1, n_utter=3, diff_cat_flag=True))\n",
    "print(\"multiple method EER (normalize after utter-by avg): \", eer_multiple_normalize(iter=10, flag=2, n_utter=3, diff_cat_flag=True))"
   ]
  },
  {
   "cell_type": "code",
   "execution_count": 26,
   "metadata": {},
   "outputs": [
    {
     "data": {
      "image/png": "[encoded data removed]",
      "text/plain": [
       "<Figure size 432x288 with 1 Axes>"
      ]
     },
     "metadata": {
      "needs_background": "light"
     },
     "output_type": "display_data"
    },
    {
     "name": "stdout",
     "output_type": "stream",
     "text": [
      "1.0031023784901758\n"
     ]
    }
   ],
   "source": [
    "d1_same = []\n",
    "d1_diff = []\n",
    "\n",
    "same_info = []\n",
    "same_emb = []\n",
    "\n",
    "for i in range(10):\n",
    "    for spk in spk_list:\n",
    "\n",
    "        # same spk\n",
    "        emb_mat = spk_emb_dict[spk] # n_utter, 10, 512\n",
    "        \n",
    "        # 다른 카테고리 flag\n",
    "        if True:\n",
    "            npy_dict = spk_npy_dict[spk]\n",
    "            cats = list(npy_dict.keys())\n",
    "            \n",
    "            # 화자의 카테고리 수가 1인 경우, 다른 카테고리에서 두개 뽑는게 불가능하므로 넘김.\n",
    "            if len(cats) == 1:\n",
    "                continue\n",
    "            \n",
    "            selected_cats = random.sample(cats, 2)\n",
    "            cat_list1 = npy_dict[selected_cats[0]]\n",
    "            cat_list2 = npy_dict[selected_cats[1]]\n",
    "            \n",
    "            indices = []\n",
    "            indices.append(random.choice(cat_list1))\n",
    "            indices.append(random.choice(cat_list2))\n",
    "        \n",
    "        else:\n",
    "            indices = random.sample(range(emb_mat.shape[0]), 2)\n",
    "        \n",
    "            \n",
    "        emb1 = emb_mat[indices[0]]\n",
    "        emb2 = emb_mat[indices[1]]\n",
    "        same_emb.append((emb1, emb2))\n",
    "        \n",
    "        if False:\n",
    "            emb1 = F.normalize(emb1, p=2, dim=1)\n",
    "            emb2 = F.normalize(emb2, p=2, dim=1)\n",
    "            emb1 = emb1.mean(dim=0)\n",
    "            emb2 = emb2.mean(dim=0)\n",
    "        else:\n",
    "            emb1 = emb1.mean(dim=0)\n",
    "            emb2 = emb2.mean(dim=0)\n",
    "            emb1 = F.normalize(emb1, p=2, dim=0)\n",
    "            emb2 = F.normalize(emb2, p=2, dim=0)\n",
    "        \n",
    "        d1_same.append(torch.dist(emb1, emb2, p=2))\n",
    "        same_info.append((spk, indices[0], spk, indices[1]))\n",
    "        \n",
    "        \n",
    "        # diff spk\n",
    "        indices = random.sample(spk_list, 2)\n",
    "        emb_mat1 = spk_emb_dict[indices[0]] # n_utter, 10, 512\n",
    "        emb_mat2 = spk_emb_dict[indices[1]] # n_utter, 10, 512\n",
    "        \n",
    "        # emb1 = random.choice(emb_mat1)\n",
    "        # emb2 = random.choice(emb_mat2)\n",
    "        indices2 = []\n",
    "        indices2.append(random.choice(range(emb_mat1.shape[0])))\n",
    "        indices2.append(random.choice(range(emb_mat2.shape[0])))\n",
    "        emb1 = emb_mat1[indices2[0]]\n",
    "        emb2 = emb_mat2[indices2[1]]\n",
    "        \n",
    "        if False:\n",
    "            emb1 = F.normalize(emb1, p=2, dim=1)\n",
    "            emb2 = F.normalize(emb2, p=2, dim=1)\n",
    "            emb1 = emb1.mean(dim=0)\n",
    "            emb2 = emb2.mean(dim=0)     \n",
    "        else:\n",
    "            emb1 = emb1.mean(dim=0)\n",
    "            emb2 = emb2.mean(dim=0)\n",
    "            emb1 = F.normalize(emb1, p=2, dim=0)\n",
    "            emb2 = F.normalize(emb2, p=2, dim=0)      \n",
    "\n",
    "        d1_diff.append(torch.dist(emb1, emb2, p=2))\n",
    "        # diff_idx.append((indices[0], indices2[0], indices[1], indices2[1]))\n",
    "\n",
    "fig, ax = plt.subplots()\n",
    "plt.boxplot([d1_same, d1_diff], positions=[1,0])\n",
    "ax.set_xlabel('Label')\n",
    "ax.set_ylabel('Distance')\n",
    "\n",
    "plt.show()\n",
    "\n",
    "d1 = d1_same + d1_diff\n",
    "s1 = [-1*i for i in d1]\n",
    "label_same = np.ones(len(d1_same))\n",
    "label_diff = np.zeros(len(d1_diff))\n",
    "label = list(np.concatenate([label_same, label_diff]))\n",
    "(tt1, eer1, fpr1, fnr1) = tuneThreshold.tuneThresholdfromScore(s1, label, [1, 0.1])\n",
    "\n",
    "print(eer1)"
   ]
  },
  {
   "cell_type": "code",
   "execution_count": 27,
   "metadata": {},
   "outputs": [
    {
     "name": "stdout",
     "output_type": "stream",
     "text": [
      "0.970344752073288 0.32783958315849304 (9670,) 9670\n",
      "[5, 7, 7, 2, 1, 1, 2, 1, 6, 2, 2, 8, 8, 4, 1, 3, 1, 4, 2, 1, 3, 2, 5, 1, 1, 3, 2, 3, 2, 1, 1, 1, 2, 1, 1, 6, 1, 1, 1, 1, 1, 2, 1, 1, 1, 1, 1, 1, 1, 2, 1, 1, 1, 1, 1, 1, 3, 1, 1, 2, 1, 1, 2, 1, 1, 1, 1, 1, 1, 1]\n"
     ]
    }
   ],
   "source": [
    "d1_same = np.array(d1_same)\n",
    "\n",
    "Q1,Q3 = np.percentile(d1_same, [25, 75])\n",
    "IQR = Q3-Q1\n",
    "\n",
    "ul = Q3+1.5*IQR\n",
    "ll = Q1-1.5*IQR\n",
    "print(ul, ll, d1_same.shape, len(same_info))\n",
    "\n",
    "outliers = np.where((d1_same > ul) | (d1_same < ll))\n",
    "not_outliers = np.where((d1_same <= ul) & (d1_same >= ll))\n",
    "\n",
    "outliers_dict = {}\n",
    "\n",
    "for i in outliers[0]:\n",
    "    info = same_info[i]\n",
    "    outlier_idx = outliers_dict.get(info[0], [])\n",
    "    outlier_idx.append((info[1], info[3]))\n",
    "    outliers_dict[info[0]] = outlier_idx\n",
    "\n",
    "out_spk = list(outliers_dict.keys())\n",
    "out_idx = list(outliers_dict.values())\n",
    "out_cnt = [len(i) for i in out_idx]\n",
    "\n",
    "print(out_cnt)\n"
   ]
  },
  {
   "cell_type": "code",
   "execution_count": 28,
   "metadata": {},
   "outputs": [
    {
     "name": "stdout",
     "output_type": "stream",
     "text": [
      "Wrong classified people: 70\n",
      "2074 : 8 [(93, 59), (93, 26), (111, 23), (88, 37), (42, 92), (116, 61), (91, 63), (85, 13)]\n",
      "118 : 8 [(42, 19), (85, 48), (4, 88), (38, 14), (89, 29), (4, 22), (48, 15), (55, 16)]\n",
      "1988 : 7 [(38, 57), (43, 2), (2, 42), (41, 46), (37, 18), (64, 9), (56, 44)]\n",
      "8183 : 7 [(62, 20), (79, 20), (104, 0), (108, 7), (60, 30), (100, 25), (16, 47)]\n",
      "2269 : 6 [(93, 59), (88, 48), (12, 93), (66, 96), (76, 117), (120, 20)]\n",
      "5802 : 6 [(97, 129), (107, 58), (20, 103), (130, 88), (10, 135), (30, 100)]\n",
      "251 : 5 [(24, 8), (6, 65), (27, 4), (73, 14), (27, 4)]\n",
      "122 : 5 [(70, 21), (48, 109), (15, 127), (26, 84), (33, 72)]\n",
      "2411 : 4 [(10, 82), (4, 62), (52, 105), (5, 65)]\n",
      "1121 : 4 [(85, 73), (73, 86), (7, 59), (73, 112)]\n",
      "208 : 3 [(47, 3), (32, 48), (22, 47)]\n",
      "6032 : 3 [(60, 46), (39, 80), (82, 42)]\n",
      "6574 : 3 [(106, 8), (53, 11), (57, 31)]\n",
      "7850 : 3 [(48, 52), (55, 45), (48, 64)]\n",
      "2277 : 3 [(0, 69), (89, 17), (4, 84)]\n",
      "8008 : 2 [(38, 97), (93, 21)]\n",
      "4731 : 2 [(99, 2), (14, 97)]\n",
      "1222 : 2 [(98, 27), (98, 8)]\n",
      "8490 : 2 [(18, 53), (35, 57)]\n",
      "2294 : 2 [(114, 1), (1, 51)]\n",
      "84 : 2 [(6, 58), (20, 61)]\n",
      "543 : 2 [(34, 56), (68, 93)]\n",
      "5039 : 2 [(12, 110), (130, 23)]\n",
      "8066 : 2 [(73, 5), (5, 81)]\n",
      "274 : 2 [(24, 106), (38, 106)]\n",
      "1387 : 2 [(40, 1), (39, 55)]\n",
      "5660 : 2 [(21, 48), (105, 74)]\n",
      "174 : 2 [(58, 29), (26, 9)]\n",
      "portion: 0.7062937062937062\n"
     ]
    }
   ],
   "source": [
    "indices = sorted(range(len(out_cnt)), key=lambda k: -1*out_cnt[k])\n",
    "print('Wrong classified people:', len(indices))\n",
    "count = 0\n",
    "for idx in indices:\n",
    "    if out_cnt[idx] > 1:\n",
    "        print(out_spk[idx], ':', out_cnt[idx], out_idx[idx])\n",
    "        count += out_cnt[idx]\n",
    "\n",
    "print('portion:', count/sum(out_cnt))\n"
   ]
  },
  {
   "cell_type": "code",
   "execution_count": null,
   "metadata": {},
   "outputs": [],
   "source": []
  }
 ],
 "metadata": {
  "kernelspec": {
   "display_name": "Python 3.8.8 ('base')",
   "language": "python",
   "name": "python3"
  },
  "language_info": {
   "codemirror_mode": {
    "name": "ipython",
    "version": 3
   },
   "file_extension": ".py",
   "mimetype": "text/x-python",
   "name": "python",
   "nbconvert_exporter": "python",
   "pygments_lexer": "ipython3",
   "version": "3.8.8"
  },
  "orig_nbformat": 4,
  "vscode": {
   "interpreter": {
    "hash": "37c2112bdabb60b81a1d7aa8b65e7845a85b887fb3f0d445753830fa6b6ef431"
   }
  }
 },
 "nbformat": 4,
 "nbformat_minor": 2
}
