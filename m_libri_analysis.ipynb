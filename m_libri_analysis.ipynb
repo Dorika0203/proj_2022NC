{
 "cells": [
  {
   "cell_type": "code",
   "execution_count": 5,
   "metadata": {},
   "outputs": [],
   "source": [
    "import os\n",
    "from m_libri_generator import get_file_dict_libri\n",
    "import numpy as np\n",
    "import torch.nn.functional as F\n",
    "import torch\n",
    "import random\n",
    "import matplotlib.pyplot as plt\n",
    "import tuneThreshold\n",
    "import csv"
   ]
  },
  {
   "cell_type": "code",
   "execution_count": 6,
   "metadata": {},
   "outputs": [],
   "source": [
    "EMB_PATH = \"../libri_emb/base/\"\n",
    "# EMB_PATH = \"../libri_emb/trimmed/\"\n",
    "# EMB_PATH = \"../libri_emb/uneval/\""
   ]
  },
  {
   "cell_type": "code",
   "execution_count": 7,
   "metadata": {},
   "outputs": [],
   "source": [
    "npy_list = os.listdir(EMB_PATH)\n",
    "npy_list = [i for i in npy_list if str.find(i, \"npy\") != -1]\n",
    "\n",
    "spk_emb_dict = {}\n",
    "for emb in npy_list:\n",
    "    emb_spk = int(emb[3:-4])\n",
    "    emb_mat = np.load(EMB_PATH+emb)\n",
    "    \n",
    "    emb_mat = torch.tensor(emb_mat)\n",
    "    spk_emb_dict[emb_spk] = emb_mat\n",
    "\n",
    "spk_list = list(spk_emb_dict.keys())"
   ]
  },
  {
   "cell_type": "code",
   "execution_count": 8,
   "metadata": {},
   "outputs": [],
   "source": [
    "spk_npy_dict = {}\n",
    "for spk in spk_list:\n",
    "    structure_dict = {}\n",
    "    csv_file = open(EMB_PATH+'op_{}.csv'.format(spk), 'r')\n",
    "    csv_reader = csv.reader(csv_file)\n",
    "    \n",
    "    for row in csv_reader:\n",
    "        wav_idx = int(row[0])\n",
    "        wav_name = row[1]\n",
    "        wav_cat = int(row[1].split('-')[1])\n",
    "        \n",
    "        cat_list = structure_dict.get(wav_cat, [])\n",
    "        cat_list.append(wav_idx)\n",
    "        structure_dict[wav_cat] = cat_list\n",
    "    \n",
    "    spk_npy_dict[spk] = structure_dict\n",
    "    csv_file.close()"
   ]
  },
  {
   "cell_type": "code",
   "execution_count": 9,
   "metadata": {},
   "outputs": [],
   "source": [
    "# 단일 발화 EER - original\n",
    "\n",
    "def eer_original(iter=10, diff_cat_flag=False):\n",
    "    d0_same = []\n",
    "    d0_diff = []\n",
    "    \n",
    "    for i in range(iter):        \n",
    "        for spk in spk_list:\n",
    "            \n",
    "            # same spk\n",
    "            emb_mat = spk_emb_dict[spk]\n",
    "            \n",
    "            # 다른 카테고리 flag\n",
    "            if diff_cat_flag:\n",
    "                npy_dict = spk_npy_dict[spk]\n",
    "                cats = list(npy_dict.keys())\n",
    "                \n",
    "                # 화자의 카테고리 수가 1인 경우, 다른 카테고리에서 두개 뽑는게 불가능하므로 넘김.\n",
    "                if len(cats) == 1:\n",
    "                    continue\n",
    "                \n",
    "                selected_cats = random.sample(cats, 2)\n",
    "                cat_list1 = npy_dict[selected_cats[0]]\n",
    "                cat_list2 = npy_dict[selected_cats[1]]\n",
    "                \n",
    "                indices = []\n",
    "                indices.append(random.choice(cat_list1))\n",
    "                indices.append(random.choice(cat_list2))\n",
    "            \n",
    "            else:\n",
    "                indices = random.sample(range(emb_mat.shape[0]), 2)\n",
    "            \n",
    "            emb1 = emb_mat[indices[0]]\n",
    "            emb2 = emb_mat[indices[1]]\n",
    "            \n",
    "            emb1 = F.normalize(emb1, p=2, dim=1)\n",
    "            emb2 = F.normalize(emb2, p=2, dim=1)\n",
    "            d0_same.append(torch.cdist(emb1, emb2, p=2).mean().item())\n",
    "            \n",
    "            # diff spk\n",
    "            indices = random.sample(spk_list, 2)\n",
    "            emb_mat1 = spk_emb_dict[indices[0]]\n",
    "            emb_mat2 = spk_emb_dict[indices[1]]\n",
    "            emb1 = random.choice(emb_mat1)\n",
    "            emb2 = random.choice(emb_mat2)\n",
    "            \n",
    "            emb1 = F.normalize(emb1, p=2, dim=1)\n",
    "            emb2 = F.normalize(emb2, p=2, dim=1)\n",
    "            d0_diff.append(torch.cdist(emb1, emb2, p=2).mean().item())\n",
    "\n",
    "    fig, ax = plt.subplots()\n",
    "    plt.boxplot([d0_same, d0_diff], positions=[1,0])\n",
    "    ax.set_xlabel('Label')\n",
    "    ax.set_ylabel('Distance')\n",
    "    plt.show()\n",
    "\n",
    "    d0 = d0_same + d0_diff\n",
    "    s0 = [-1*i for i in d0]\n",
    "    label_same = np.ones(len(d0_same))\n",
    "    label_diff = np.zeros(len(d0_diff))\n",
    "    label = list(np.concatenate([label_same, label_diff]))\n",
    "    (tt0, eer0, fpr0, fnr0) = tuneThreshold.tuneThresholdfromScore(s0, label, [1, 0.1])\n",
    "    \n",
    "    return eer0"
   ]
  },
  {
   "cell_type": "code",
   "execution_count": 10,
   "metadata": {},
   "outputs": [],
   "source": [
    "def eer_single_normalize(iter=10, flag=0, diff_cat_flag=False):\n",
    "    '''\n",
    "    flag(0): normalize before frame-by average\n",
    "    flag(1): normalize after frame-by average\n",
    "    '''\n",
    "    assert flag == 0 or flag == 1\n",
    "    \n",
    "    d1_same = []\n",
    "    d1_diff = []\n",
    "    \n",
    "    for i in range(iter):\n",
    "        for spk in spk_list:\n",
    "\n",
    "            # same spk\n",
    "            emb_mat = spk_emb_dict[spk] # n_utter, 10, 512\n",
    "            \n",
    "            # 다른 카테고리 flag\n",
    "            if diff_cat_flag:\n",
    "                npy_dict = spk_npy_dict[spk]\n",
    "                cats = list(npy_dict.keys())\n",
    "                \n",
    "                # 화자의 카테고리 수가 1인 경우, 다른 카테고리에서 두개 뽑는게 불가능하므로 넘김.\n",
    "                if len(cats) == 1:\n",
    "                    continue\n",
    "                \n",
    "                selected_cats = random.sample(cats, 2)\n",
    "                cat_list1 = npy_dict[selected_cats[0]]\n",
    "                cat_list2 = npy_dict[selected_cats[1]]\n",
    "                \n",
    "                indices = []\n",
    "                indices.append(random.choice(cat_list1))\n",
    "                indices.append(random.choice(cat_list2))\n",
    "            \n",
    "            else:\n",
    "                indices = random.sample(range(emb_mat.shape[0]), 2)\n",
    "            \n",
    "                \n",
    "            emb1 = emb_mat[indices[0]]\n",
    "            emb2 = emb_mat[indices[1]]\n",
    "            \n",
    "            if flag == 0:                \n",
    "                emb1 = F.normalize(emb1, p=2, dim=1)\n",
    "                emb2 = F.normalize(emb2, p=2, dim=1)\n",
    "                emb1 = emb1.mean(dim=0)\n",
    "                emb2 = emb2.mean(dim=0)\n",
    "            else:\n",
    "                emb1 = emb1.mean(dim=0)\n",
    "                emb2 = emb2.mean(dim=0)\n",
    "                emb1 = F.normalize(emb1, p=2, dim=0)\n",
    "                emb2 = F.normalize(emb2, p=2, dim=0)\n",
    "            \n",
    "            d1_same.append(torch.dist(emb1, emb2, p=2))\n",
    "            \n",
    "            \n",
    "            \n",
    "            # diff spk\n",
    "            indices = random.sample(spk_list, 2)\n",
    "            emb_mat1 = spk_emb_dict[indices[0]] # n_utter, 10, 512\n",
    "            emb_mat2 = spk_emb_dict[indices[1]] # n_utter, 10, 512\n",
    "            \n",
    "            emb1 = random.choice(emb_mat1)\n",
    "            emb2 = random.choice(emb_mat2)\n",
    "            \n",
    "            if flag == 0:\n",
    "                emb1 = F.normalize(emb1, p=2, dim=1)\n",
    "                emb2 = F.normalize(emb2, p=2, dim=1)\n",
    "                emb1 = emb1.mean(dim=0)\n",
    "                emb2 = emb2.mean(dim=0)     \n",
    "            else:\n",
    "                emb1 = emb1.mean(dim=0)\n",
    "                emb2 = emb2.mean(dim=0)\n",
    "                emb1 = F.normalize(emb1, p=2, dim=0)\n",
    "                emb2 = F.normalize(emb2, p=2, dim=0)      \n",
    "\n",
    "            d1_diff.append(torch.dist(emb1, emb2, p=2))\n",
    "\n",
    "    fig, ax = plt.subplots()\n",
    "    plt.boxplot([d1_same, d1_diff], positions=[1,0])\n",
    "    ax.set_xlabel('Label')\n",
    "    ax.set_ylabel('Distance')\n",
    "\n",
    "    plt.show()\n",
    "\n",
    "    d1 = d1_same + d1_diff\n",
    "    s1 = [-1*i for i in d1]\n",
    "    label_same = np.ones(len(d1_same))\n",
    "    label_diff = np.zeros(len(d1_diff))\n",
    "    label = list(np.concatenate([label_same, label_diff]))\n",
    "    (tt1, eer1, fpr1, fnr1) = tuneThreshold.tuneThresholdfromScore(s1, label, [1, 0.1])\n",
    "    \n",
    "    return eer1"
   ]
  },
  {
   "cell_type": "code",
   "execution_count": 11,
   "metadata": {},
   "outputs": [],
   "source": [
    "def eer_multiple_normalize(iter=10, flag=0, n_utter=3, diff_cat_flag=False):\n",
    "    \n",
    "    '''\n",
    "    flag(0): normalize before frame-by average\n",
    "    flag(1): normalize between frame-by average and utterance-by average\n",
    "    flag(2): normalize after utterance-by average\n",
    "    '''\n",
    "    \n",
    "    assert flag == 0 or flag == 1 or flag == 2\n",
    "    \n",
    "    d2_same = []\n",
    "    d2_diff = []\n",
    "    for i in range(iter):\n",
    "        for spk in spk_list:\n",
    "            \n",
    "            # same spk\n",
    "            emb_mat = spk_emb_dict[spk] # n_utter, 10, 512\n",
    "            \n",
    "            # 다른 카테고리 flag\n",
    "            if diff_cat_flag:\n",
    "                npy_dict = spk_npy_dict[spk]\n",
    "                cats = list(npy_dict.keys())\n",
    "                \n",
    "                # 화자의 카테고리 수가 1인 경우, 다른 카테고리에서 두개 뽑는게 불가능하므로 넘김.\n",
    "                if len(cats) == 1:\n",
    "                    continue\n",
    "                \n",
    "                selected_cats = random.sample(cats, 2)\n",
    "                cat_list1 = npy_dict[selected_cats[0]]\n",
    "                cat_list2 = npy_dict[selected_cats[1]]\n",
    "                indices1 = random.sample(cat_list1, n_utter)\n",
    "                indices2 = random.sample(cat_list2, n_utter)\n",
    "            \n",
    "            else:\n",
    "                indices = random.sample(range(emb_mat.shape[0]), 2*n_utter)\n",
    "                indices1 = indices[0:n_utter]\n",
    "                indices2 = indices[n_utter:2*n_utter]\n",
    "            \n",
    "            emb1 = torch.index_select(emb_mat, dim=0, index=torch.tensor(indices1)) # 3, 10, 512\n",
    "            emb2 = torch.index_select(emb_mat, dim=0, index=torch.tensor(indices2)) # 3, 10, 512\n",
    "            \n",
    "            if flag == 0:\n",
    "                emb1 = F.normalize(emb1, p=2, dim=2)\n",
    "                emb1 = emb1.mean(dim=1)\n",
    "                emb1 = emb1.mean(dim=0)\n",
    "                emb2 = F.normalize(emb2, p=2, dim=2)\n",
    "                emb2 = emb2.mean(dim=1)\n",
    "                emb2 = emb2.mean(dim=0)\n",
    "            elif flag == 1:\n",
    "                emb1 = emb1.mean(dim=1)\n",
    "                emb1 = F.normalize(emb1, p=2, dim=1)\n",
    "                emb1 = emb1.mean(dim=0)\n",
    "                emb2 = emb2.mean(dim=1)\n",
    "                emb2 = F.normalize(emb2, p=2, dim=1)\n",
    "                emb2 = emb2.mean(dim=0)\n",
    "            else:\n",
    "                emb1 = emb1.mean(dim=1)\n",
    "                emb1 = emb1.mean(dim=0)\n",
    "                emb1 = F.normalize(emb1, p=2, dim=0)\n",
    "                emb2 = emb2.mean(dim=1)\n",
    "                emb2 = emb2.mean(dim=0)\n",
    "                emb2 = F.normalize(emb2, p=2, dim=0)\n",
    "                \n",
    "            d2_same.append(torch.dist(emb1, emb2, p=2))\n",
    "            \n",
    "            # diff spk\n",
    "            indices = random.sample(spk_list, 2)\n",
    "            emb_mat1 = spk_emb_dict[indices[0]] # n_utter, 10, 512\n",
    "            emb_mat2 = spk_emb_dict[indices[1]] # n_utter, 10, 512\n",
    "            indices1 = random.sample(range(emb_mat1.shape[0]), n_utter)\n",
    "            indices2 = random.sample(range(emb_mat2.shape[0]), n_utter)\n",
    "            \n",
    "            emb1 = torch.index_select(emb_mat1, dim=0, index=torch.tensor(indices1)) # 3, 10, 512\n",
    "            emb2 = torch.index_select(emb_mat2, dim=0, index=torch.tensor(indices2)) # 3, 10, 512\n",
    "            \n",
    "            if flag == 0:\n",
    "                emb1 = F.normalize(emb1, p=2, dim=2)\n",
    "                emb1 = emb1.mean(dim=1)\n",
    "                emb1 = emb1.mean(dim=0)\n",
    "                emb2 = F.normalize(emb2, p=2, dim=2)\n",
    "                emb2 = emb2.mean(dim=1)\n",
    "                emb2 = emb2.mean(dim=0)\n",
    "            elif flag == 1:\n",
    "                emb1 = emb1.mean(dim=1)\n",
    "                emb1 = F.normalize(emb1, p=2, dim=1)\n",
    "                emb1 = emb1.mean(dim=0)\n",
    "                emb2 = emb2.mean(dim=1)\n",
    "                emb2 = F.normalize(emb2, p=2, dim=1)\n",
    "                emb2 = emb2.mean(dim=0)\n",
    "            else:\n",
    "                emb1 = emb1.mean(dim=1)\n",
    "                emb1 = emb1.mean(dim=0)\n",
    "                emb1 = F.normalize(emb1, p=2, dim=0)\n",
    "                emb2 = emb2.mean(dim=1)\n",
    "                emb2 = emb2.mean(dim=0)\n",
    "                emb2 = F.normalize(emb2, p=2, dim=0)\n",
    "                \n",
    "            d2_diff.append(torch.dist(emb1, emb2, p=2))\n",
    "        \n",
    "    fig, ax = plt.subplots()\n",
    "    plt.boxplot([d2_same, d2_diff], positions=[1,0])\n",
    "    ax.set_xlabel('Label')\n",
    "    ax.set_ylabel('Distance')\n",
    "    plt.show()\n",
    "\n",
    "\n",
    "    d2 = d2_same + d2_diff\n",
    "    s2 = [-1*i for i in d2]\n",
    "    label_same = np.ones(len(d2_same))\n",
    "    label_diff = np.zeros(len(d2_diff))\n",
    "    label = list(np.concatenate([label_same, label_diff]))\n",
    "    (tt2, eer2, fpr2, fnr2) = tuneThreshold.tuneThresholdfromScore(s2, label, [1, 0.1])\n",
    "    \n",
    "    \n",
    "    return eer2"
   ]
  },
  {
   "cell_type": "code",
   "execution_count": 12,
   "metadata": {},
   "outputs": [
    {
     "data": {
      "image/png": "[encoded data removed]",
      "text/plain": [
       "<Figure size 432x288 with 1 Axes>"
      ]
     },
     "metadata": {
      "needs_background": "light"
     },
     "output_type": "display_data"
    },
    {
     "name": "stdout",
     "output_type": "stream",
     "text": [
      "original method EER: 0.6374501992031822\n"
     ]
    }
   ],
   "source": [
    "print(\"original method EER:\", eer_original(iter=10, diff_cat_flag=False))\n",
    "# print(\"original method EER:\", eer_original(iter=10, diff_cat_flag=True))"
   ]
  },
  {
   "cell_type": "code",
   "execution_count": 13,
   "metadata": {},
   "outputs": [
    {
     "data": {
      "image/png": "[encoded data removed]",
      "text/plain": [
       "<Figure size 432x288 with 1 Axes>"
      ]
     },
     "metadata": {
      "needs_background": "light"
     },
     "output_type": "display_data"
    },
    {
     "name": "stdout",
     "output_type": "stream",
     "text": [
      "single method EER (normalize before average):  0.8764940239043839\n"
     ]
    },
    {
     "data": {
      "image/png": "[encoded data removed]",
      "text/plain": [
       "<Figure size 432x288 with 1 Axes>"
      ]
     },
     "metadata": {
      "needs_background": "light"
     },
     "output_type": "display_data"
    },
    {
     "name": "stdout",
     "output_type": "stream",
     "text": [
      "single method EER (normalize after average):  0.6374501992031872\n"
     ]
    }
   ],
   "source": [
    "print(\"single method EER (normalize before average): \", eer_single_normalize(iter=10, flag=0))\n",
    "print(\"single method EER (normalize after average): \", eer_single_normalize(iter=10, flag=1))\n",
    "\n",
    "# print(\"single method EER (normalize before average): \", eer_single_normalize(iter=10, flag=0, diff_cat_flag=True))\n",
    "# print(\"single method EER (normalize after average): \", eer_single_normalize(iter=10, flag=1, diff_cat_flag=True))"
   ]
  },
  {
   "cell_type": "code",
   "execution_count": 14,
   "metadata": {},
   "outputs": [
    {
     "data": {
      "image/png": "[encoded data removed]",
      "text/plain": [
       "<Figure size 432x288 with 1 Axes>"
      ]
     },
     "metadata": {
      "needs_background": "light"
     },
     "output_type": "display_data"
    },
    {
     "name": "stdout",
     "output_type": "stream",
     "text": [
      "multiple method EER (normalize before frame-by avg):  0.0398406374501992\n"
     ]
    },
    {
     "data": {
      "image/png": "[encoded data removed]",
      "text/plain": [
       "<Figure size 432x288 with 1 Axes>"
      ]
     },
     "metadata": {
      "needs_background": "light"
     },
     "output_type": "display_data"
    },
    {
     "name": "stdout",
     "output_type": "stream",
     "text": [
      "multiple method EER (normalize between frame-by avg and utter-by avg):  0.03984063745019473\n"
     ]
    },
    {
     "data": {
      "image/png": "[encoded data removed]",
      "text/plain": [
       "<Figure size 432x288 with 1 Axes>"
      ]
     },
     "metadata": {
      "needs_background": "light"
     },
     "output_type": "display_data"
    },
    {
     "name": "stdout",
     "output_type": "stream",
     "text": [
      "multiple method EER (normalize after utter-by avg):  0.0398406374501992\n"
     ]
    }
   ],
   "source": [
    "print(\"multiple method EER (normalize before frame-by avg): \", eer_multiple_normalize(iter=10, flag=0, n_utter=3))\n",
    "print(\"multiple method EER (normalize between frame-by avg and utter-by avg): \", eer_multiple_normalize(iter=10, flag=1, n_utter=3))\n",
    "print(\"multiple method EER (normalize after utter-by avg): \", eer_multiple_normalize(iter=10, flag=2, n_utter=3))\n",
    "\n",
    "# print(\"multiple method EER (normalize before frame-by avg): \", eer_multiple_normalize(iter=10, flag=0, n_utter=3, diff_cat_flag=True))\n",
    "# print(\"multiple method EER (normalize between frame-by avg and utter-by avg): \", eer_multiple_normalize(iter=10, flag=1, n_utter=3, diff_cat_flag=True))\n",
    "# print(\"multiple method EER (normalize after utter-by avg): \", eer_multiple_normalize(iter=10, flag=2, n_utter=3, diff_cat_flag=True))"
   ]
  },
  {
   "cell_type": "code",
   "execution_count": 11,
   "metadata": {},
   "outputs": [
    {
     "data": {
      "image/png": "[encoded data removed]",
      "text/plain": [
       "<Figure size 432x288 with 1 Axes>"
      ]
     },
     "metadata": {
      "needs_background": "light"
     },
     "output_type": "display_data"
    },
    {
     "name": "stdout",
     "output_type": "stream",
     "text": [
      "3.27817993795243\n"
     ]
    }
   ],
   "source": [
    "d1_same = []\n",
    "d1_diff = []\n",
    "\n",
    "same_info = []\n",
    "same_emb = []\n",
    "\n",
    "for i in range(10):\n",
    "    for spk in spk_list:\n",
    "\n",
    "        # same spk\n",
    "        emb_mat = spk_emb_dict[spk] # n_utter, 10, 512\n",
    "        \n",
    "        # 다른 카테고리 flag\n",
    "        if True:\n",
    "            npy_dict = spk_npy_dict[spk]\n",
    "            cats = list(npy_dict.keys())\n",
    "            \n",
    "            # 화자의 카테고리 수가 1인 경우, 다른 카테고리에서 두개 뽑는게 불가능하므로 넘김.\n",
    "            if len(cats) == 1:\n",
    "                continue\n",
    "            \n",
    "            selected_cats = random.sample(cats, 2)\n",
    "            cat_list1 = npy_dict[selected_cats[0]]\n",
    "            cat_list2 = npy_dict[selected_cats[1]]\n",
    "            \n",
    "            indices = []\n",
    "            indices.append(random.choice(cat_list1))\n",
    "            indices.append(random.choice(cat_list2))\n",
    "        \n",
    "        else:\n",
    "            indices = random.sample(range(emb_mat.shape[0]), 2)\n",
    "        \n",
    "            \n",
    "        emb1 = emb_mat[indices[0]]\n",
    "        emb2 = emb_mat[indices[1]]\n",
    "        same_emb.append((emb1, emb2))\n",
    "        \n",
    "        if False:\n",
    "            emb1 = F.normalize(emb1, p=2, dim=1)\n",
    "            emb2 = F.normalize(emb2, p=2, dim=1)\n",
    "            emb1 = emb1.mean(dim=0)\n",
    "            emb2 = emb2.mean(dim=0)\n",
    "        else:\n",
    "            emb1 = emb1.mean(dim=0)\n",
    "            emb2 = emb2.mean(dim=0)\n",
    "            emb1 = F.normalize(emb1, p=2, dim=0)\n",
    "            emb2 = F.normalize(emb2, p=2, dim=0)\n",
    "        \n",
    "        d1_same.append(torch.dist(emb1, emb2, p=2))\n",
    "        same_info.append((spk, indices[0], spk, indices[1]))\n",
    "        \n",
    "        \n",
    "        # diff spk\n",
    "        indices = random.sample(spk_list, 2)\n",
    "        emb_mat1 = spk_emb_dict[indices[0]] # n_utter, 10, 512\n",
    "        emb_mat2 = spk_emb_dict[indices[1]] # n_utter, 10, 512\n",
    "        \n",
    "        # emb1 = random.choice(emb_mat1)\n",
    "        # emb2 = random.choice(emb_mat2)\n",
    "        indices2 = []\n",
    "        indices2.append(random.choice(range(emb_mat1.shape[0])))\n",
    "        indices2.append(random.choice(range(emb_mat2.shape[0])))\n",
    "        emb1 = emb_mat1[indices2[0]]\n",
    "        emb2 = emb_mat2[indices2[1]]\n",
    "        \n",
    "        if False:\n",
    "            emb1 = F.normalize(emb1, p=2, dim=1)\n",
    "            emb2 = F.normalize(emb2, p=2, dim=1)\n",
    "            emb1 = emb1.mean(dim=0)\n",
    "            emb2 = emb2.mean(dim=0)     \n",
    "        else:\n",
    "            emb1 = emb1.mean(dim=0)\n",
    "            emb2 = emb2.mean(dim=0)\n",
    "            emb1 = F.normalize(emb1, p=2, dim=0)\n",
    "            emb2 = F.normalize(emb2, p=2, dim=0)      \n",
    "\n",
    "        d1_diff.append(torch.dist(emb1, emb2, p=2))\n",
    "        # diff_idx.append((indices[0], indices2[0], indices[1], indices2[1]))\n",
    "\n",
    "fig, ax = plt.subplots()\n",
    "plt.boxplot([d1_same, d1_diff], positions=[1,0])\n",
    "ax.set_xlabel('Label')\n",
    "ax.set_ylabel('Distance')\n",
    "\n",
    "plt.show()\n",
    "\n",
    "d1 = d1_same + d1_diff\n",
    "s1 = [-1*i for i in d1]\n",
    "label_same = np.ones(len(d1_same))\n",
    "label_diff = np.zeros(len(d1_diff))\n",
    "label = list(np.concatenate([label_same, label_diff]))\n",
    "(tt1, eer1, fpr1, fnr1) = tuneThreshold.tuneThresholdfromScore(s1, label, [1, 0.1])\n",
    "\n",
    "print(eer1)"
   ]
  },
  {
   "cell_type": "code",
   "execution_count": 17,
   "metadata": {},
   "outputs": [
    {
     "name": "stdout",
     "output_type": "stream",
     "text": [
      "0.8770249560475349 0.3415341451764107 (9670,) 9670\n",
      "[5, 9, 4, 5, 1, 2, 1, 1, 2, 2, 1, 2, 10, 2, 1, 1, 1, 3, 2, 1, 1, 1, 1, 2, 1, 1, 1, 2, 1, 1, 2, 1, 1, 1, 2, 7, 1, 1, 2, 1, 1, 1, 2, 1, 1, 1, 6, 2, 1, 2, 3, 2, 1, 2, 1, 1, 1, 1, 1, 1, 2, 1, 1, 1, 2, 1, 1, 2, 1, 1, 1, 1, 1, 2, 1, 1, 2, 1, 2, 1, 1, 1, 1, 1, 1, 1, 1, 1, 1, 1, 1, 1, 1, 1, 2, 1, 1, 1, 1, 1, 1, 1, 1, 1, 1, 1, 1, 1, 1, 1, 1, 1, 1]\n"
     ]
    }
   ],
   "source": [
    "d1_same = np.array(d1_same)\n",
    "\n",
    "Q1,Q3 = np.percentile(d1_same, [25, 75])\n",
    "IQR = Q3-Q1\n",
    "\n",
    "ul = Q3+1.5*IQR\n",
    "ll = Q1-1.5*IQR\n",
    "print(ul, ll, d1_same.shape, len(same_info))\n",
    "\n",
    "outliers = np.where((d1_same > ul) | (d1_same < ll))\n",
    "not_outliers = np.where((d1_same <= ul) & (d1_same >= ll))\n",
    "\n",
    "outliers_dict = {}\n",
    "\n",
    "for i in outliers[0]:\n",
    "    info = same_info[i]\n",
    "    outlier_idx = outliers_dict.get(info[0], [])\n",
    "    outlier_idx.append((info[1], info[3]))\n",
    "    outliers_dict[info[0]] = outlier_idx\n",
    "\n",
    "out_spk = list(outliers_dict.keys())\n",
    "out_idx = list(outliers_dict.values())\n",
    "out_cnt = [len(i) for i in out_idx]\n",
    "\n",
    "print(out_cnt)\n"
   ]
  },
  {
   "cell_type": "code",
   "execution_count": 18,
   "metadata": {},
   "outputs": [
    {
     "name": "stdout",
     "output_type": "stream",
     "text": [
      "Wrong classified people: 113\n",
      "118 : 10 [(109, 43), (20, 68), (15, 43), (104, 38), (41, 106), (106, 1), (61, 26), (17, 101), (58, 5), (33, 117)]\n",
      "1988 : 9 [(43, 65), (61, 44), (1, 47), (21, 51), (34, 71), (6, 33), (11, 30), (38, 74), (26, 44)]\n",
      "2277 : 7 [(18, 72), (71, 17), (59, 4), (1, 81), (20, 62), (86, 20), (52, 59)]\n",
      "2074 : 6 [(30, 120), (20, 115), (93, 40), (39, 102), (101, 58), (102, 54)]\n",
      "5333 : 5 [(38, 17), (123, 38), (0, 41), (28, 114), (18, 110)]\n",
      "2269 : 5 [(81, 74), (93, 8), (87, 34), (44, 96), (92, 0)]\n",
      "8183 : 4 [(27, 63), (25, 65), (14, 63), (65, 31)]\n",
      "3927 : 3 [(72, 143), (72, 143), (42, 118)]\n",
      "251 : 3 [(64, 7), (10, 35), (56, 38)]\n",
      "1121 : 2 [(12, 71), (113, 46)]\n",
      "4586 : 2 [(50, 3), (89, 4)]\n",
      "2803 : 2 [(18, 12), (0, 27)]\n",
      "5536 : 2 [(1, 53), (23, 53)]\n",
      "84 : 2 [(1, 39), (6, 39)]\n",
      "398 : 2 [(90, 19), (81, 8)]\n",
      "27 : 2 [(4, 66), (102, 6)]\n",
      "5802 : 2 [(109, 27), (42, 117)]\n",
      "7938 : 2 [(95, 111), (30, 90)]\n",
      "6848 : 2 [(89, 56), (67, 93)]\n",
      "1552 : 2 [(102, 34), (40, 104)]\n",
      "6209 : 2 [(47, 94), (64, 5)]\n",
      "8474 : 2 [(85, 32), (36, 3)]\n",
      "446 : 2 [(51, 4), (63, 4)]\n",
      "7117 : 2 [(8, 89), (89, 23)]\n",
      "3717 : 2 [(111, 66), (7, 46)]\n",
      "480 : 2 [(49, 84), (117, 61)]\n",
      "6313 : 2 [(65, 29), (81, 41)]\n",
      "8855 : 2 [(76, 59), (66, 5)]\n",
      "8490 : 2 [(33, 56), (33, 47)]\n",
      "1272 : 2 [(31, 4), (1, 16)]\n",
      "4358 : 2 [(101, 56), (90, 63)]\n",
      "2368 : 2 [(31, 74), (80, 141)]\n",
      "portion: 0.547486033519553\n"
     ]
    }
   ],
   "source": [
    "indices = sorted(range(len(out_cnt)), key=lambda k: -1*out_cnt[k])\n",
    "print('Wrong classified people:', len(indices))\n",
    "count = 0\n",
    "for idx in indices:\n",
    "    if out_cnt[idx] > 1:\n",
    "        print(out_spk[idx], ':', out_cnt[idx], out_idx[idx])\n",
    "        count += out_cnt[idx]\n",
    "\n",
    "print('portion:', count/sum(out_cnt))\n"
   ]
  },
  {
   "cell_type": "code",
   "execution_count": null,
   "metadata": {},
   "outputs": [],
   "source": []
  }
 ],
 "metadata": {
  "kernelspec": {
   "display_name": "Python 3.8.8 ('base')",
   "language": "python",
   "name": "python3"
  },
  "language_info": {
   "codemirror_mode": {
    "name": "ipython",
    "version": 3
   },
   "file_extension": ".py",
   "mimetype": "text/x-python",
   "name": "python",
   "nbconvert_exporter": "python",
   "pygments_lexer": "ipython3",
   "version": "3.8.8"
  },
  "orig_nbformat": 4,
  "vscode": {
   "interpreter": {
    "hash": "37c2112bdabb60b81a1d7aa8b65e7845a85b887fb3f0d445753830fa6b6ef431"
   }
  }
 },
 "nbformat": 4,
 "nbformat_minor": 2
}
