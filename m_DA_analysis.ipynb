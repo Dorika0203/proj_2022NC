{
 "cells": [
  {
   "cell_type": "code",
   "execution_count": 1,
   "metadata": {},
   "outputs": [],
   "source": [
    "import numpy as np\n",
    "import torch\n",
    "import os\n",
    "import matplotlib.pyplot as plt\n",
    "import random"
   ]
  },
  {
   "cell_type": "code",
   "execution_count": 2,
   "metadata": {},
   "outputs": [],
   "source": [
    "def getMyEmb(original_emb):\n",
    "    \n",
    "    tmp = torch.FloatTensor(original_emb)\n",
    "    tmp = torch.mean(tmp, dim=0)\n",
    "    tmp = torch.nn.functional.normalize(tmp, p=2, dim=0)\n",
    "    \n",
    "    return tmp"
   ]
  },
  {
   "cell_type": "code",
   "execution_count": 3,
   "metadata": {},
   "outputs": [
    {
     "name": "stdout",
     "output_type": "stream",
     "text": [
      "(4494/4494)\n",
      "(4494/4494)\n"
     ]
    }
   ],
   "source": [
    "DA_LIST = 'data/testset_distribution_list.txt'\n",
    "DA_PATH_ORIGINAL = '../vox_emb/test'\n",
    "DA_PATH_PROCESSED = 'exp_emb/MyLinearNetv2_Exp6-2/emb_test'\n",
    "\n",
    "# DA_LIST = 'data/trainset_distribution_list.txt'\n",
    "# DA_PATH_ORIGINAL = '../vox_emb/train'\n",
    "# DA_PATH_PROCESSED = 'exp_emb/MyLinearNetv2_Exp6-2/emb_train'\n",
    "\n",
    "with open(DA_LIST) as f:\n",
    "    lines = f.readlines()\n",
    "\n",
    "# # IF TRAIN SET -> USE SMALL AMOUNT\n",
    "# lines1 = lines[0:len(lines)//2]\n",
    "# lines2 = lines[len(lines)//2:]\n",
    "# tmp_lines1 = random.sample(lines1, len(lines1)//100)\n",
    "# tmp_lines2 = random.sample(lines2, len(lines2)//100)\n",
    "# lines = list()\n",
    "# lines.extend(tmp_lines1)\n",
    "# lines.extend(tmp_lines2)\n",
    "\n",
    "\n",
    "same_cat_dist_original = []\n",
    "diff_cat_dist_original = []\n",
    "same_cat_dist_processed = []\n",
    "diff_cat_dist_processed = []\n",
    "\n",
    "for idx, l in enumerate(lines):\n",
    "    tokens = l.strip().split()\n",
    "    flag = tokens[3]\n",
    "    file1 = tokens[1]\n",
    "    file2 = tokens[2]\n",
    "    \n",
    "    emb1 = np.load(os.path.join(DA_PATH_ORIGINAL, file1))\n",
    "    emb2 = np.load(os.path.join(DA_PATH_ORIGINAL, file2))\n",
    "    \n",
    "    emb1 = getMyEmb(emb1)\n",
    "    emb2 = getMyEmb(emb2)\n",
    "    \n",
    "    # # L2 distance\n",
    "    # dist = torch.dist(emb1, emb2).item()\n",
    "    \n",
    "    # cosine simliarity\n",
    "    dist = 1 - torch.nn.functional.cosine_similarity(emb1, emb2, dim=0).item()\n",
    "    \n",
    "    if flag == '1':\n",
    "        same_cat_dist_original.append(dist)\n",
    "    else:\n",
    "        diff_cat_dist_original.append(dist)\n",
    "    \n",
    "    print('\\r({}/{})'.format(idx+1, len(lines)), end='')\n",
    "\n",
    "print()\n",
    "\n",
    "with open(DA_LIST) as f:\n",
    "    lines = f.readlines()\n",
    "\n",
    "# # IF TRAIN SET -> USE SMALL AMOUNT\n",
    "# lines1 = lines[0:len(lines)//2]\n",
    "# lines2 = lines[len(lines)//2:]\n",
    "# tmp_lines1 = random.sample(lines1, len(lines1)//100)\n",
    "# tmp_lines2 = random.sample(lines2, len(lines2)//100)\n",
    "# lines = list()\n",
    "# lines.extend(tmp_lines1)\n",
    "# lines.extend(tmp_lines2)\n",
    "\n",
    "\n",
    "for idx, l in enumerate(lines):\n",
    "    tokens = l.strip().split()\n",
    "    flag = tokens[3]\n",
    "    file1 = tokens[1]\n",
    "    file2 = tokens[2]\n",
    "    \n",
    "    emb1 = np.load(os.path.join(DA_PATH_PROCESSED, file1))\n",
    "    emb2 = np.load(os.path.join(DA_PATH_PROCESSED, file2))\n",
    "    \n",
    "    emb1 = torch.FloatTensor(emb1)\n",
    "    emb2 = torch.FloatTensor(emb2)\n",
    "    \n",
    "    # # L2 distance\n",
    "    # dist = torch.dist(emb1, emb2).item()\n",
    "    \n",
    "    # cosine simliarity\n",
    "    dist = 1 - torch.nn.functional.cosine_similarity(emb1, emb2, dim=0).item()\n",
    "    \n",
    "    if flag == '1':\n",
    "        same_cat_dist_processed.append(dist)\n",
    "    else:\n",
    "        diff_cat_dist_processed.append(dist)\n",
    "    \n",
    "    print('\\r({}/{})'.format(idx+1, len(lines)), end='')\n",
    "\n",
    "print()"
   ]
  },
  {
   "cell_type": "code",
   "execution_count": 4,
   "metadata": {},
   "outputs": [
    {
     "data": {
      "image/png": "[encoded data removed]",
      "text/plain": [
       "<Figure size 432x288 with 1 Axes>"
      ]
     },
     "metadata": {
      "needs_background": "light"
     },
     "output_type": "display_data"
    }
   ],
   "source": [
    "plt.hist(same_cat_dist_original, bins=60, histtype='stepfilled', color='blue', alpha=0.5)\n",
    "plt.hist(diff_cat_dist_original, bins=60, histtype='stepfilled', color='blue', alpha=0.5)\n",
    "\n",
    "plt.hist(same_cat_dist_processed, bins=60, histtype='stepfilled', color='red', alpha=0.5)\n",
    "plt.hist(diff_cat_dist_processed, bins=60, histtype='stepfilled', color='red', alpha=0.5)\n",
    "plt.show()"
   ]
  },
  {
   "cell_type": "code",
   "execution_count": 8,
   "metadata": {},
   "outputs": [
    {
     "name": "stdout",
     "output_type": "stream",
     "text": [
      "(100890/100890)\n",
      "(100890/100890)\n"
     ]
    }
   ],
   "source": [
    "# COMPARE PROCESSED\n",
    "\n",
    "# DA_LIST = 'data/testset_distribution_list.txt'\n",
    "\n",
    "# DA_PATH_PROCESSED1 = 'exp_emb/MyLinearNetv2_Exp5-3/emb_test'\n",
    "# DA_PATH_PROCESSED1 = 'exp_emb/MyLinearNetv2_Exp6/emb_test'\n",
    "\n",
    "# DA_PATH_PROCESSED2 = 'exp_emb/MyLinearNetv2_Exp6-1/emb_test'\n",
    "# DA_PATH_PROCESSED2 = 'exp_emb/MyLinearNetv2_Exp6-2/emb_test'\n",
    "\n",
    "\n",
    "\n",
    "DA_LIST = 'data/trainset_distribution_list.txt'\n",
    "\n",
    "# DA_PATH_PROCESSED1 = 'exp_emb/MyLinearNetv2_Exp6-1/emb_train'\n",
    "# DA_PATH_PROCESSED1 = 'exp_emb/MyLinearNetv2_Exp6/emb_train'\n",
    "DA_PATH_PROCESSED1 = 'exp_emb/MyLinearNetv2_Exp5-3/emb_train'\n",
    "\n",
    "# DA_PATH_PROCESSED2 = 'exp_emb/MyLinearNetv2_Exp6/emb_train'\n",
    "DA_PATH_PROCESSED2 = 'exp_emb/MyLinearNetv2_Exp6-1/emb_train'\n",
    "# DA_PATH_PROCESSED2 = 'exp_emb/MyLinearNetv2_Exp6-2/emb_train'\n",
    "\n",
    "with open(DA_LIST) as f:\n",
    "    lines = f.readlines()\n",
    "\n",
    "# IF TRAIN SET -> USE SMALL AMOUNT\n",
    "lines1 = lines[0:len(lines)//2]\n",
    "lines2 = lines[len(lines)//2:]\n",
    "tmp_lines1 = random.sample(lines1, len(lines1)//10)\n",
    "tmp_lines2 = random.sample(lines2, len(lines2)//10)\n",
    "lines = list()\n",
    "lines.extend(tmp_lines1)\n",
    "lines.extend(tmp_lines2)\n",
    "\n",
    "same_cat_dist_p1 = []\n",
    "diff_cat_dist_p1 = []\n",
    "same_cat_dist_p2 = []\n",
    "diff_cat_dist_p2 = []\n",
    "\n",
    "for idx, l in enumerate(lines):\n",
    "    tokens = l.strip().split()\n",
    "    flag = tokens[3]\n",
    "    file1 = tokens[1]\n",
    "    file2 = tokens[2]\n",
    "    \n",
    "    emb1 = np.load(os.path.join(DA_PATH_PROCESSED1, file1))\n",
    "    emb2 = np.load(os.path.join(DA_PATH_PROCESSED1, file2))\n",
    "    \n",
    "    emb1 = torch.FloatTensor(emb1)\n",
    "    emb2 = torch.FloatTensor(emb2)\n",
    "    \n",
    "    # # L2 distance\n",
    "    # dist = torch.dist(emb1, emb2).item()\n",
    "    \n",
    "    # cosine simliarity\n",
    "    dist = 1 - torch.nn.functional.cosine_similarity(emb1, emb2, dim=0).item()\n",
    "    \n",
    "    if flag == '1':\n",
    "        same_cat_dist_p1.append(dist)\n",
    "    else:\n",
    "        diff_cat_dist_p1.append(dist)\n",
    "    \n",
    "    print('\\r({}/{})'.format(idx+1, len(lines)), end='')\n",
    "\n",
    "print()\n",
    "\n",
    "with open(DA_LIST) as f:\n",
    "    lines = f.readlines()\n",
    "\n",
    "# IF TRAIN SET -> USE SMALL AMOUNT\n",
    "lines1 = lines[0:len(lines)//2]\n",
    "lines2 = lines[len(lines)//2:]\n",
    "tmp_lines1 = random.sample(lines1, len(lines1)//10)\n",
    "tmp_lines2 = random.sample(lines2, len(lines2)//10)\n",
    "lines = list()\n",
    "lines.extend(tmp_lines1)\n",
    "lines.extend(tmp_lines2)\n",
    "\n",
    "for idx, l in enumerate(lines):\n",
    "    tokens = l.strip().split()\n",
    "    flag = tokens[3]\n",
    "    file1 = tokens[1]\n",
    "    file2 = tokens[2]\n",
    "    \n",
    "    emb1 = np.load(os.path.join(DA_PATH_PROCESSED2, file1))\n",
    "    emb2 = np.load(os.path.join(DA_PATH_PROCESSED2, file2))\n",
    "    \n",
    "    emb1 = torch.FloatTensor(emb1)\n",
    "    emb2 = torch.FloatTensor(emb2)\n",
    "    \n",
    "    # # L2 distance\n",
    "    # dist = torch.dist(emb1, emb2).item()\n",
    "    \n",
    "    # cosine simliarity\n",
    "    dist = 1 - torch.nn.functional.cosine_similarity(emb1, emb2, dim=0).item()\n",
    "    \n",
    "    if flag == '1':\n",
    "        same_cat_dist_p2.append(dist)\n",
    "    else:\n",
    "        diff_cat_dist_p2.append(dist)\n",
    "    \n",
    "    print('\\r({}/{})'.format(idx+1, len(lines)), end='')\n",
    "\n",
    "print()"
   ]
  },
  {
   "cell_type": "code",
   "execution_count": 9,
   "metadata": {},
   "outputs": [
    {
     "data": {
      "image/png": "[encoded data removed]",
      "text/plain": [
       "<Figure size 432x288 with 1 Axes>"
      ]
     },
     "metadata": {
      "needs_background": "light"
     },
     "output_type": "display_data"
    }
   ],
   "source": [
    "plt.hist(same_cat_dist_p1, bins=60, histtype='stepfilled', color='blue', alpha=0.5)\n",
    "plt.hist(diff_cat_dist_p1, bins=60, histtype='stepfilled', color='blue', alpha=0.5)\n",
    "\n",
    "plt.hist(same_cat_dist_p2, bins=60, histtype='stepfilled', color='red', alpha=0.5)\n",
    "plt.hist(diff_cat_dist_p2, bins=60, histtype='stepfilled', color='red', alpha=0.5)\n",
    "plt.show()\n",
    "\n",
    "# plt.hist(same_cat_dist_p1, bins=60, histtype='step', color='blue')\n",
    "# plt.hist(diff_cat_dist_p1, bins=60, histtype='step', color='blue')\n",
    "\n",
    "# plt.hist(same_cat_dist_p2, bins=60, histtype='step', color='red')\n",
    "# plt.hist(diff_cat_dist_p2, bins=60, histtype='step', color='red')\n",
    "# plt.show()"
   ]
  },
  {
   "cell_type": "code",
   "execution_count": null,
   "metadata": {},
   "outputs": [],
   "source": []
  }
 ],
 "metadata": {
  "kernelspec": {
   "display_name": "Python 3.8.8 ('base')",
   "language": "python",
   "name": "python3"
  },
  "language_info": {
   "codemirror_mode": {
    "name": "ipython",
    "version": 3
   },
   "file_extension": ".py",
   "mimetype": "text/x-python",
   "name": "python",
   "nbconvert_exporter": "python",
   "pygments_lexer": "ipython3",
   "version": "3.8.8"
  },
  "orig_nbformat": 4,
  "vscode": {
   "interpreter": {
    "hash": "37c2112bdabb60b81a1d7aa8b65e7845a85b887fb3f0d445753830fa6b6ef431"
   }
  }
 },
 "nbformat": 4,
 "nbformat_minor": 2
}
