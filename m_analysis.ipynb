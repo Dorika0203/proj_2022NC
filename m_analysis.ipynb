{
 "cells": [
  {
   "cell_type": "code",
   "execution_count": 1,
   "metadata": {},
   "outputs": [],
   "source": [
    "import os\n",
    "from m_generator import get_file_dict\n",
    "import numpy as np\n",
    "import torch.nn.functional as F\n",
    "import torch\n",
    "import random\n",
    "import matplotlib.pyplot as plt\n",
    "import tuneThreshold"
   ]
  },
  {
   "cell_type": "code",
   "execution_count": 2,
   "metadata": {},
   "outputs": [],
   "source": [
    "npy_list = os.listdir(\"../libri_emb/\")\n",
    "npy_list = [i for i in npy_list if str.find(i, \"npy\") != -1]\n",
    "\n",
    "spk_emb_dict = {}\n",
    "for emb in npy_list:\n",
    "    emb_spk = int(emb[3:-4])\n",
    "    emb_mat = np.load(\"../libri_emb/\"+emb)\n",
    "    \n",
    "    # AP + softmax loss의 경우 wav의 10개 eval 구간에 따라 L2 normalization이 된다. 똑같이 반영\n",
    "    emb_mat = torch.tensor(emb_mat)\n",
    "    emb_mat = F.normalize(emb_mat, p=2, dim=1)\n",
    "    spk_emb_dict[emb_spk] = emb_mat \n",
    "\n",
    "spk_list = list(spk_emb_dict.keys())"
   ]
  },
  {
   "cell_type": "code",
   "execution_count": 3,
   "metadata": {},
   "outputs": [
    {
     "data": {
      "image/png": "[encoded data removed]",
      "text/plain": [
       "<Figure size 432x288 with 1 Axes>"
      ]
     },
     "metadata": {
      "needs_background": "light"
     },
     "output_type": "display_data"
    },
    {
     "name": "stdout",
     "output_type": "stream",
     "text": [
      "2.0627062706270682\n"
     ]
    }
   ],
   "source": [
    "# 단일 발화 EER - original\n",
    "\n",
    "d0_same = []\n",
    "d0_diff = []\n",
    "for spk in spk_list:\n",
    "    # same spk\n",
    "    emb_mat = spk_emb_dict[spk]\n",
    "    indices = random.sample(range(emb_mat.shape[0]), 2)\n",
    "    emb1 = emb_mat[indices[0]]\n",
    "    emb2 = emb_mat[indices[1]]\n",
    "    d0_same.append(torch.cdist(emb1, emb2, p=2).mean().item())\n",
    "    \n",
    "    # diff spk\n",
    "    indices = random.sample(spk_list, 2)\n",
    "    emb_mat1 = spk_emb_dict[indices[0]]\n",
    "    emb_mat2 = spk_emb_dict[indices[1]]\n",
    "    emb1 = random.choice(emb_mat1)\n",
    "    emb2 = random.choice(emb_mat2)\n",
    "    d0_diff.append(torch.cdist(emb1, emb2, p=2).mean().item())\n",
    "\n",
    "\n",
    "fig, ax = plt.subplots()\n",
    "plt.boxplot([d0_same, d0_diff], positions=[1,0])\n",
    "ax.set_xlabel('Label')\n",
    "ax.set_ylabel('Distance')\n",
    "plt.show()\n",
    "\n",
    "d0 = d0_same + d0_diff\n",
    "s0 = [-1*i for i in d0]\n",
    "label_same = np.ones(len(d0_same))\n",
    "label_diff = np.zeros(len(d0_diff))\n",
    "label = list(np.concatenate([label_same, label_diff]))\n",
    "(tt0, eer0, fpr0, fnr0) = tuneThreshold.tuneThresholdfromScore(s0, label, [1, 0.1])\n",
    "print(eer0)"
   ]
  },
  {
   "cell_type": "code",
   "execution_count": 6,
   "metadata": {},
   "outputs": [
    {
     "data": {
      "image/png": "[encoded data removed]",
      "text/plain": [
       "<Figure size 432x288 with 1 Axes>"
      ]
     },
     "metadata": {
      "needs_background": "light"
     },
     "output_type": "display_data"
    },
    {
     "name": "stdout",
     "output_type": "stream",
     "text": [
      "11.798679867986795\n"
     ]
    }
   ],
   "source": [
    "# 단일 발화 EER\n",
    "\n",
    "d1_same = []\n",
    "d1_diff = []\n",
    "for spk in spk_list:\n",
    "    # same spk\n",
    "    emb_mat = spk_emb_dict[spk].mean(dim=1) # (speech #, 10, 512)\n",
    "    indices = random.sample(range(emb_mat.shape[0]), 2)\n",
    "    emb1 = emb_mat[indices[0]]\n",
    "    emb2 = emb_mat[indices[1]]\n",
    "    d1_same.append(torch.dist(emb1, emb2, p=2))\n",
    "    \n",
    "    # diff spk\n",
    "    indices = random.sample(spk_list, 2)\n",
    "    emb_mat1 = spk_emb_dict[indices[0]].mean(dim=1)\n",
    "    emb_mat2 = spk_emb_dict[indices[1]].mean(dim=1)\n",
    "    emb1 = random.choice(emb_mat1)\n",
    "    emb2 = random.choice(emb_mat2)\n",
    "    d1_diff.append(torch.dist(emb1, emb2, p=2))\n",
    "\n",
    "fig, ax = plt.subplots()\n",
    "plt.boxplot([d1_same, d1_diff], positions=[1,0])\n",
    "ax.set_xlabel('Label')\n",
    "ax.set_ylabel('Distance')\n",
    "\n",
    "plt.show()\n",
    "\n",
    "d1 = d1_same + d1_diff\n",
    "s1 = [-1*i for i in d1]\n",
    "label_same = np.ones(len(d1_same))\n",
    "label_diff = np.zeros(len(d1_diff))\n",
    "label = list(np.concatenate([label_same, label_diff]))\n",
    "(tt1, eer1, fpr1, fnr1) = tuneThreshold.tuneThresholdfromScore(s1, label, [1, 0.1])\n",
    "print(eer1)"
   ]
  },
  {
   "cell_type": "code",
   "execution_count": 7,
   "metadata": {},
   "outputs": [
    {
     "data": {
      "image/png": "[encoded data removed]",
      "text/plain": [
       "<Figure size 432x288 with 1 Axes>"
      ]
     },
     "metadata": {
      "needs_background": "light"
     },
     "output_type": "display_data"
    },
    {
     "name": "stdout",
     "output_type": "stream",
     "text": [
      "10.891089108910892\n"
     ]
    }
   ],
   "source": [
    "# 다발화 - single vector EER\n",
    "d2_same = []\n",
    "d2_diff = []\n",
    "for spk in spk_list:\n",
    "    # same spk\n",
    "    emb_mat = spk_emb_dict[spk].mean(dim=1)\n",
    "    index = random.choice(range(emb_mat.shape[0]))\n",
    "    indices = list(range(emb_mat.shape[0]))\n",
    "    indices.remove(index)\n",
    "    emb1 = emb_mat[index]\n",
    "    emb2 = torch.index_select(emb_mat, dim=0, index=torch.tensor(indices))\n",
    "    emb2 = torch.mean(emb2, dim=0)\n",
    "    d2_same.append(torch.dist(emb1, emb2, p=2))\n",
    "    \n",
    "    # diff spk\n",
    "    indices = random.sample(spk_list, 2)\n",
    "    emb1 = spk_emb_dict[indices[0]].mean(dim=1)\n",
    "    emb2 = spk_emb_dict[indices[1]].mean(dim=1)\n",
    "    emb1 = torch.mean(emb1, dim=0)\n",
    "    emb2 = torch.mean(emb2, dim=0)\n",
    "    # print(emb1.shape, emb2.shape)\n",
    "    d2_diff.append(torch.dist(emb1, emb2, p=2))\n",
    "    # break\n",
    "    \n",
    "fig, ax = plt.subplots()\n",
    "plt.boxplot([d2_same, d2_diff], positions=[1,0])\n",
    "ax.set_xlabel('Label')\n",
    "ax.set_ylabel('Distance')\n",
    "plt.show()\n",
    "\n",
    "\n",
    "d2 = d2_same + d2_diff\n",
    "s2 = [-1*i for i in d2]\n",
    "label_same = np.ones(len(d2_same))\n",
    "label_diff = np.zeros(len(d2_diff))\n",
    "label = list(np.concatenate([label_same, label_diff]))\n",
    "(tt2, eer2, fpr2, fnr2) = tuneThreshold.tuneThresholdfromScore(s2, label, [1, 0.1])\n",
    "print(eer2)"
   ]
  },
  {
   "cell_type": "code",
   "execution_count": null,
   "metadata": {},
   "outputs": [],
   "source": [
    "# 다발화 - matrix EER -> 다른 화자면 그냥 하면 되는데, 단일 화자에서 두개의 matrix를 어떻게 뽑아야 할까\n",
    "# 이 경우 다발화 matrix를 만들 때 화자의 모든 발화를 쓰면 안됨. 부분적으로 사용해야 함"
   ]
  }
 ],
 "metadata": {
  "kernelspec": {
   "display_name": "Python 3.8.8 ('base')",
   "language": "python",
   "name": "python3"
  },
  "language_info": {
   "codemirror_mode": {
    "name": "ipython",
    "version": 3
   },
   "file_extension": ".py",
   "mimetype": "text/x-python",
   "name": "python",
   "nbconvert_exporter": "python",
   "pygments_lexer": "ipython3",
   "version": "3.8.8"
  },
  "orig_nbformat": 4,
  "vscode": {
   "interpreter": {
    "hash": "37c2112bdabb60b81a1d7aa8b65e7845a85b887fb3f0d445753830fa6b6ef431"
   }
  }
 },
 "nbformat": 4,
 "nbformat_minor": 2
}
