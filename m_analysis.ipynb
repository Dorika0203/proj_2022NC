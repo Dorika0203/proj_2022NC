{
 "cells": [
  {
   "cell_type": "code",
   "execution_count": 1,
   "metadata": {},
   "outputs": [],
   "source": [
    "import os\n",
    "from m_generator import get_file_dict_libri\n",
    "import numpy as np\n",
    "import torch.nn.functional as F\n",
    "import torch\n",
    "import random\n",
    "import matplotlib.pyplot as plt\n",
    "import tuneThreshold\n",
    "import csv"
   ]
  },
  {
   "cell_type": "code",
   "execution_count": 2,
   "metadata": {},
   "outputs": [],
   "source": [
    "# EMB_PATH = \"../libri_emb/base/\"\n",
    "# EMB_PATH = \"../libri_emb/trimmed/\"\n",
    "EMB_PATH = \"../libri_emb/test/\""
   ]
  },
  {
   "cell_type": "code",
   "execution_count": 3,
   "metadata": {},
   "outputs": [],
   "source": [
    "npy_list = os.listdir(EMB_PATH)\n",
    "npy_list = [i for i in npy_list if str.find(i, \"npy\") != -1]\n",
    "\n",
    "spk_emb_dict = {}\n",
    "for emb in npy_list:\n",
    "    emb_spk = int(emb[3:-4])\n",
    "    emb_mat = np.load(EMB_PATH+emb)\n",
    "    \n",
    "    emb_mat = torch.tensor(emb_mat)\n",
    "    spk_emb_dict[emb_spk] = emb_mat\n",
    "\n",
    "spk_list = list(spk_emb_dict.keys())"
   ]
  },
  {
   "cell_type": "code",
   "execution_count": 4,
   "metadata": {},
   "outputs": [],
   "source": [
    "spk_npy_dict = {}\n",
    "for spk in spk_list:\n",
    "    structure_dict = {}\n",
    "    csv_file = open(EMB_PATH+'op_{}.csv'.format(spk), 'r')\n",
    "    csv_reader = csv.reader(csv_file)\n",
    "    \n",
    "    for row in csv_reader:\n",
    "        wav_idx = int(row[0])\n",
    "        wav_name = row[1]\n",
    "        wav_cat = int(row[1].split('-')[1])\n",
    "        \n",
    "        cat_list = structure_dict.get(wav_cat, [])\n",
    "        cat_list.append(wav_idx)\n",
    "        structure_dict[wav_cat] = cat_list\n",
    "    \n",
    "    spk_npy_dict[spk] = structure_dict\n",
    "    csv_file.close()"
   ]
  },
  {
   "cell_type": "code",
   "execution_count": 5,
   "metadata": {},
   "outputs": [],
   "source": [
    "# 단일 발화 EER - original\n",
    "\n",
    "def eer_original(iter=10, diff_cat_flag=False):\n",
    "    d0_same = []\n",
    "    d0_diff = []\n",
    "    \n",
    "    for i in range(iter):        \n",
    "        for spk in spk_list:\n",
    "            \n",
    "            # same spk\n",
    "            emb_mat = spk_emb_dict[spk]\n",
    "            \n",
    "            # 다른 카테고리 flag\n",
    "            if diff_cat_flag:\n",
    "                npy_dict = spk_npy_dict[spk]\n",
    "                cats = list(npy_dict.keys())\n",
    "                \n",
    "                # 화자의 카테고리 수가 1인 경우, 다른 카테고리에서 두개 뽑는게 불가능하므로 넘김.\n",
    "                if len(cats) == 1:\n",
    "                    continue\n",
    "                \n",
    "                selected_cats = random.sample(cats, 2)\n",
    "                cat_list1 = npy_dict[selected_cats[0]]\n",
    "                cat_list2 = npy_dict[selected_cats[1]]\n",
    "                \n",
    "                indices = []\n",
    "                indices.append(random.choice(cat_list1))\n",
    "                indices.append(random.choice(cat_list2))\n",
    "            \n",
    "            else:\n",
    "                indices = random.sample(range(emb_mat.shape[0]), 2)\n",
    "            \n",
    "            emb1 = emb_mat[indices[0]]\n",
    "            emb2 = emb_mat[indices[1]]\n",
    "            \n",
    "            emb1 = F.normalize(emb1, p=2, dim=1)\n",
    "            emb2 = F.normalize(emb2, p=2, dim=1)\n",
    "            d0_same.append(torch.cdist(emb1, emb2, p=2).mean().item())\n",
    "            \n",
    "            # diff spk\n",
    "            indices = random.sample(spk_list, 2)\n",
    "            emb_mat1 = spk_emb_dict[indices[0]]\n",
    "            emb_mat2 = spk_emb_dict[indices[1]]\n",
    "            emb1 = random.choice(emb_mat1)\n",
    "            emb2 = random.choice(emb_mat2)\n",
    "            \n",
    "            emb1 = F.normalize(emb1, p=2, dim=1)\n",
    "            emb2 = F.normalize(emb2, p=2, dim=1)\n",
    "            d0_diff.append(torch.cdist(emb1, emb2, p=2).mean().item())\n",
    "\n",
    "    fig, ax = plt.subplots()\n",
    "    plt.boxplot([d0_same, d0_diff], positions=[1,0])\n",
    "    ax.set_xlabel('Label')\n",
    "    ax.set_ylabel('Distance')\n",
    "    plt.show()\n",
    "\n",
    "    d0 = d0_same + d0_diff\n",
    "    s0 = [-1*i for i in d0]\n",
    "    label_same = np.ones(len(d0_same))\n",
    "    label_diff = np.zeros(len(d0_diff))\n",
    "    label = list(np.concatenate([label_same, label_diff]))\n",
    "    (tt0, eer0, fpr0, fnr0) = tuneThreshold.tuneThresholdfromScore(s0, label, [1, 0.1])\n",
    "    \n",
    "    return eer0"
   ]
  },
  {
   "cell_type": "code",
   "execution_count": 6,
   "metadata": {},
   "outputs": [],
   "source": [
    "def eer_single_normalize(iter=10, flag=0, diff_cat_flag=False):\n",
    "    '''\n",
    "    flag(0): normalize before frame-by average\n",
    "    flag(1): normalize after frame-by average\n",
    "    '''\n",
    "    assert flag == 0 or flag == 1\n",
    "    \n",
    "    d1_same = []\n",
    "    d1_diff = []\n",
    "    \n",
    "    for i in range(iter):\n",
    "        for spk in spk_list:\n",
    "\n",
    "            # same spk\n",
    "            emb_mat = spk_emb_dict[spk] # n_utter, 10, 512\n",
    "            \n",
    "            # 다른 카테고리 flag\n",
    "            if diff_cat_flag:\n",
    "                npy_dict = spk_npy_dict[spk]\n",
    "                cats = list(npy_dict.keys())\n",
    "                \n",
    "                # 화자의 카테고리 수가 1인 경우, 다른 카테고리에서 두개 뽑는게 불가능하므로 넘김.\n",
    "                if len(cats) == 1:\n",
    "                    continue\n",
    "                \n",
    "                selected_cats = random.sample(cats, 2)\n",
    "                cat_list1 = npy_dict[selected_cats[0]]\n",
    "                cat_list2 = npy_dict[selected_cats[1]]\n",
    "                \n",
    "                indices = []\n",
    "                indices.append(random.choice(cat_list1))\n",
    "                indices.append(random.choice(cat_list2))\n",
    "            \n",
    "            else:\n",
    "                indices = random.sample(range(emb_mat.shape[0]), 2)\n",
    "            \n",
    "                \n",
    "            emb1 = emb_mat[indices[0]]\n",
    "            emb2 = emb_mat[indices[1]]\n",
    "            \n",
    "            if flag == 0:                \n",
    "                emb1 = F.normalize(emb1, p=2, dim=1)\n",
    "                emb2 = F.normalize(emb2, p=2, dim=1)\n",
    "                emb1 = emb1.mean(dim=0)\n",
    "                emb2 = emb2.mean(dim=0)\n",
    "            else:\n",
    "                emb1 = emb1.mean(dim=0)\n",
    "                emb2 = emb2.mean(dim=0)\n",
    "                emb1 = F.normalize(emb1, p=2, dim=0)\n",
    "                emb2 = F.normalize(emb2, p=2, dim=0)\n",
    "            \n",
    "            d1_same.append(torch.dist(emb1, emb2, p=2))\n",
    "            \n",
    "            \n",
    "            \n",
    "            # diff spk\n",
    "            indices = random.sample(spk_list, 2)\n",
    "            emb_mat1 = spk_emb_dict[indices[0]] # n_utter, 10, 512\n",
    "            emb_mat2 = spk_emb_dict[indices[1]] # n_utter, 10, 512\n",
    "            \n",
    "            emb1 = random.choice(emb_mat1)\n",
    "            emb2 = random.choice(emb_mat2)\n",
    "            \n",
    "            if flag == 0:\n",
    "                emb1 = F.normalize(emb1, p=2, dim=1)\n",
    "                emb2 = F.normalize(emb2, p=2, dim=1)\n",
    "                emb1 = emb1.mean(dim=0)\n",
    "                emb2 = emb2.mean(dim=0)     \n",
    "            else:\n",
    "                emb1 = emb1.mean(dim=0)\n",
    "                emb2 = emb2.mean(dim=0)\n",
    "                emb1 = F.normalize(emb1, p=2, dim=0)\n",
    "                emb2 = F.normalize(emb2, p=2, dim=0)      \n",
    "\n",
    "            d1_diff.append(torch.dist(emb1, emb2, p=2))\n",
    "\n",
    "    fig, ax = plt.subplots()\n",
    "    plt.boxplot([d1_same, d1_diff], positions=[1,0])\n",
    "    ax.set_xlabel('Label')\n",
    "    ax.set_ylabel('Distance')\n",
    "\n",
    "    plt.show()\n",
    "\n",
    "    d1 = d1_same + d1_diff\n",
    "    s1 = [-1*i for i in d1]\n",
    "    label_same = np.ones(len(d1_same))\n",
    "    label_diff = np.zeros(len(d1_diff))\n",
    "    label = list(np.concatenate([label_same, label_diff]))\n",
    "    (tt1, eer1, fpr1, fnr1) = tuneThreshold.tuneThresholdfromScore(s1, label, [1, 0.1])\n",
    "    \n",
    "    return eer1"
   ]
  },
  {
   "cell_type": "code",
   "execution_count": 7,
   "metadata": {},
   "outputs": [],
   "source": [
    "def eer_multiple_normalize(iter=10, flag=0, n_utter=3, diff_cat_flag=False):\n",
    "    \n",
    "    '''\n",
    "    flag(0): normalize before frame-by average\n",
    "    flag(1): normalize between frame-by average and utterance-by average\n",
    "    flag(2): normalize after utterance-by average\n",
    "    '''\n",
    "    \n",
    "    assert flag == 0 or flag == 1 or flag == 2\n",
    "    \n",
    "    d2_same = []\n",
    "    d2_diff = []\n",
    "    for i in range(iter):\n",
    "        for spk in spk_list:\n",
    "            \n",
    "            # same spk\n",
    "            emb_mat = spk_emb_dict[spk] # n_utter, 10, 512\n",
    "            \n",
    "            # 다른 카테고리 flag\n",
    "            if diff_cat_flag:\n",
    "                npy_dict = spk_npy_dict[spk]\n",
    "                cats = list(npy_dict.keys())\n",
    "                \n",
    "                # 화자의 카테고리 수가 1인 경우, 다른 카테고리에서 두개 뽑는게 불가능하므로 넘김.\n",
    "                if len(cats) == 1:\n",
    "                    continue\n",
    "                \n",
    "                selected_cats = random.sample(cats, 2)\n",
    "                cat_list1 = npy_dict[selected_cats[0]]\n",
    "                cat_list2 = npy_dict[selected_cats[1]]\n",
    "                indices1 = random.sample(cat_list1, n_utter)\n",
    "                indices2 = random.sample(cat_list2, n_utter)\n",
    "            \n",
    "            else:\n",
    "                indices = random.sample(range(emb_mat.shape[0]), 2*n_utter)\n",
    "                indices1 = indices[0:n_utter]\n",
    "                indices2 = indices[n_utter:2*n_utter]\n",
    "            \n",
    "            emb1 = torch.index_select(emb_mat, dim=0, index=torch.tensor(indices1)) # 3, 10, 512\n",
    "            emb2 = torch.index_select(emb_mat, dim=0, index=torch.tensor(indices2)) # 3, 10, 512\n",
    "            \n",
    "            if flag == 0:\n",
    "                emb1 = F.normalize(emb1, p=2, dim=2)\n",
    "                emb1 = emb1.mean(dim=1)\n",
    "                emb1 = emb1.mean(dim=0)\n",
    "                emb2 = F.normalize(emb2, p=2, dim=2)\n",
    "                emb2 = emb2.mean(dim=1)\n",
    "                emb2 = emb2.mean(dim=0)\n",
    "            elif flag == 1:\n",
    "                emb1 = emb1.mean(dim=1)\n",
    "                emb1 = F.normalize(emb1, p=2, dim=1)\n",
    "                emb1 = emb1.mean(dim=0)\n",
    "                emb2 = emb2.mean(dim=1)\n",
    "                emb2 = F.normalize(emb2, p=2, dim=1)\n",
    "                emb2 = emb2.mean(dim=0)\n",
    "            else:\n",
    "                emb1 = emb1.mean(dim=1)\n",
    "                emb1 = emb1.mean(dim=0)\n",
    "                emb1 = F.normalize(emb1, p=2, dim=0)\n",
    "                emb2 = emb2.mean(dim=1)\n",
    "                emb2 = emb2.mean(dim=0)\n",
    "                emb2 = F.normalize(emb2, p=2, dim=0)\n",
    "                \n",
    "            d2_same.append(torch.dist(emb1, emb2, p=2))\n",
    "            \n",
    "            # diff spk\n",
    "            indices = random.sample(spk_list, 2)\n",
    "            emb_mat1 = spk_emb_dict[indices[0]] # n_utter, 10, 512\n",
    "            emb_mat2 = spk_emb_dict[indices[1]] # n_utter, 10, 512\n",
    "            indices1 = random.sample(range(emb_mat1.shape[0]), n_utter)\n",
    "            indices2 = random.sample(range(emb_mat2.shape[0]), n_utter)\n",
    "            \n",
    "            emb1 = torch.index_select(emb_mat1, dim=0, index=torch.tensor(indices1)) # 3, 10, 512\n",
    "            emb2 = torch.index_select(emb_mat2, dim=0, index=torch.tensor(indices2)) # 3, 10, 512\n",
    "            \n",
    "            if flag == 0:\n",
    "                emb1 = F.normalize(emb1, p=2, dim=2)\n",
    "                emb1 = emb1.mean(dim=1)\n",
    "                emb1 = emb1.mean(dim=0)\n",
    "                emb2 = F.normalize(emb2, p=2, dim=2)\n",
    "                emb2 = emb2.mean(dim=1)\n",
    "                emb2 = emb2.mean(dim=0)\n",
    "            elif flag == 1:\n",
    "                emb1 = emb1.mean(dim=1)\n",
    "                emb1 = F.normalize(emb1, p=2, dim=1)\n",
    "                emb1 = emb1.mean(dim=0)\n",
    "                emb2 = emb2.mean(dim=1)\n",
    "                emb2 = F.normalize(emb2, p=2, dim=1)\n",
    "                emb2 = emb2.mean(dim=0)\n",
    "            else:\n",
    "                emb1 = emb1.mean(dim=1)\n",
    "                emb1 = emb1.mean(dim=0)\n",
    "                emb1 = F.normalize(emb1, p=2, dim=0)\n",
    "                emb2 = emb2.mean(dim=1)\n",
    "                emb2 = emb2.mean(dim=0)\n",
    "                emb2 = F.normalize(emb2, p=2, dim=0)\n",
    "                \n",
    "            d2_diff.append(torch.dist(emb1, emb2, p=2))\n",
    "        \n",
    "    fig, ax = plt.subplots()\n",
    "    plt.boxplot([d2_same, d2_diff], positions=[1,0])\n",
    "    ax.set_xlabel('Label')\n",
    "    ax.set_ylabel('Distance')\n",
    "    plt.show()\n",
    "\n",
    "\n",
    "    d2 = d2_same + d2_diff\n",
    "    s2 = [-1*i for i in d2]\n",
    "    label_same = np.ones(len(d2_same))\n",
    "    label_diff = np.zeros(len(d2_diff))\n",
    "    label = list(np.concatenate([label_same, label_diff]))\n",
    "    (tt2, eer2, fpr2, fnr2) = tuneThreshold.tuneThresholdfromScore(s2, label, [1, 0.1])\n",
    "    \n",
    "    \n",
    "    return eer2"
   ]
  },
  {
   "cell_type": "code",
   "execution_count": 8,
   "metadata": {},
   "outputs": [
    {
     "data": {
      "image/png": "[encoded data removed]",
      "text/plain": [
       "<Figure size 432x288 with 1 Axes>"
      ]
     },
     "metadata": {
      "needs_background": "light"
     },
     "output_type": "display_data"
    },
    {
     "name": "stdout",
     "output_type": "stream",
     "text": [
      "original method EER: 2.802481902792142\n"
     ]
    }
   ],
   "source": [
    "# print(\"original method EER:\", eer_original(iter=10, diff_cat_flag=False))\n",
    "print(\"original method EER:\", eer_original(iter=10, diff_cat_flag=True))"
   ]
  },
  {
   "cell_type": "code",
   "execution_count": 9,
   "metadata": {},
   "outputs": [
    {
     "data": {
      "image/png": "[encoded data removed]",
      "text/plain": [
       "<Figure size 432x288 with 1 Axes>"
      ]
     },
     "metadata": {
      "needs_background": "light"
     },
     "output_type": "display_data"
    },
    {
     "name": "stdout",
     "output_type": "stream",
     "text": [
      "single method EER (normalize before average):  5.9358841778697\n"
     ]
    },
    {
     "data": {
      "image/png": "[encoded data removed]",
      "text/plain": [
       "<Figure size 432x288 with 1 Axes>"
      ]
     },
     "metadata": {
      "needs_background": "light"
     },
     "output_type": "display_data"
    },
    {
     "name": "stdout",
     "output_type": "stream",
     "text": [
      "single method EER (normalize after average):  3.464322647362983\n"
     ]
    }
   ],
   "source": [
    "# print(\"single method EER (normalize before average): \", eer_single_normalize(iter=10, flag=0))\n",
    "# print(\"single method EER (normalize after average): \", eer_single_normalize(iter=10, flag=1))\n",
    "\n",
    "print(\"single method EER (normalize before average): \", eer_single_normalize(iter=10, flag=0, diff_cat_flag=True))\n",
    "print(\"single method EER (normalize after average): \", eer_single_normalize(iter=10, flag=1, diff_cat_flag=True))"
   ]
  },
  {
   "cell_type": "code",
   "execution_count": 11,
   "metadata": {},
   "outputs": [
    {
     "data": {
      "image/png": "[encoded data removed]",
      "text/plain": [
       "<Figure size 432x288 with 1 Axes>"
      ]
     },
     "metadata": {
      "needs_background": "light"
     },
     "output_type": "display_data"
    },
    {
     "name": "stdout",
     "output_type": "stream",
     "text": [
      "multiple method EER (normalize before frame-by avg):  1.0444674250258532\n"
     ]
    },
    {
     "data": {
      "image/png": "[encoded data removed]",
      "text/plain": [
       "<Figure size 432x288 with 1 Axes>"
      ]
     },
     "metadata": {
      "needs_background": "light"
     },
     "output_type": "display_data"
    },
    {
     "name": "stdout",
     "output_type": "stream",
     "text": [
      "multiple method EER (normalize between frame-by avg and utter-by avg):  0.9203722854188211\n"
     ]
    },
    {
     "data": {
      "image/png": "[encoded data removed]",
      "text/plain": [
       "<Figure size 432x288 with 1 Axes>"
      ]
     },
     "metadata": {
      "needs_background": "light"
     },
     "output_type": "display_data"
    },
    {
     "name": "stdout",
     "output_type": "stream",
     "text": [
      "multiple method EER (normalize after utter-by avg):  0.8273009307135472\n"
     ]
    }
   ],
   "source": [
    "# print(\"multiple method EER (normalize before frame-by avg): \", eer_multiple_normalize(iter=10, flag=0, n_utter=3))\n",
    "# print(\"multiple method EER (normalize between frame-by avg and utter-by avg): \", eer_multiple_normalize(iter=10, flag=1, n_utter=3))\n",
    "# print(\"multiple method EER (normalize after utter-by avg): \", eer_multiple_normalize(iter=10, flag=2, n_utter=3))\n",
    "\n",
    "print(\"multiple method EER (normalize before frame-by avg): \", eer_multiple_normalize(iter=10, flag=0, n_utter=3, diff_cat_flag=True))\n",
    "print(\"multiple method EER (normalize between frame-by avg and utter-by avg): \", eer_multiple_normalize(iter=10, flag=1, n_utter=3, diff_cat_flag=True))\n",
    "print(\"multiple method EER (normalize after utter-by avg): \", eer_multiple_normalize(iter=10, flag=2, n_utter=3, diff_cat_flag=True))"
   ]
  },
  {
   "cell_type": "code",
   "execution_count": null,
   "metadata": {},
   "outputs": [],
   "source": [
    "# d1_same = []\n",
    "# d1_diff = []\n",
    "\n",
    "# for i in range(iter):\n",
    "#     for spk in spk_list:\n",
    "\n",
    "#         # same spk\n",
    "#         emb_mat = spk_emb_dict[spk] # n_utter, 10, 512\n",
    "        \n",
    "#         # 다른 카테고리 flag\n",
    "#         if True:\n",
    "#             npy_dict = spk_npy_dict[spk]\n",
    "#             cats = list(npy_dict.keys())\n",
    "            \n",
    "#             # 화자의 카테고리 수가 1인 경우, 다른 카테고리에서 두개 뽑는게 불가능하므로 넘김.\n",
    "#             if len(cats) == 1:\n",
    "#                 continue\n",
    "            \n",
    "#             selected_cats = random.sample(cats, 2)\n",
    "#             cat_list1 = npy_dict[selected_cats[0]]\n",
    "#             cat_list2 = npy_dict[selected_cats[1]]\n",
    "            \n",
    "#             indices = []\n",
    "#             indices.append(random.choice(cat_list1))\n",
    "#             indices.append(random.choice(cat_list2))\n",
    "        \n",
    "#         else:\n",
    "#             indices = random.sample(range(emb_mat.shape[0]), 2)\n",
    "        \n",
    "            \n",
    "#         emb1 = emb_mat[indices[0]]\n",
    "#         emb2 = emb_mat[indices[1]]\n",
    "        \n",
    "#         if flag == 0:\n",
    "#             emb1 = F.normalize(emb1, p=2, dim=1)\n",
    "#             emb2 = F.normalize(emb2, p=2, dim=1)\n",
    "#             emb1 = emb1.mean(dim=0)\n",
    "#             emb2 = emb2.mean(dim=0)\n",
    "#         else:\n",
    "#             emb1 = emb1.mean(dim=0)\n",
    "#             emb2 = emb2.mean(dim=0)\n",
    "#             emb1 = F.normalize(emb1, p=2, dim=0)\n",
    "#             emb2 = F.normalize(emb2, p=2, dim=0)\n",
    "        \n",
    "#         d1_same.append(torch.dist(emb1, emb2, p=2))\n",
    "        \n",
    "        \n",
    "        \n",
    "#         # diff spk\n",
    "#         indices = random.sample(spk_list, 2)\n",
    "#         emb_mat1 = spk_emb_dict[indices[0]] # n_utter, 10, 512\n",
    "#         emb_mat2 = spk_emb_dict[indices[1]] # n_utter, 10, 512\n",
    "        \n",
    "#         emb1 = random.choice(emb_mat1)\n",
    "#         emb2 = random.choice(emb_mat2)\n",
    "        \n",
    "#         if flag == 0:\n",
    "#             emb1 = F.normalize(emb1, p=2, dim=1)\n",
    "#             emb2 = F.normalize(emb2, p=2, dim=1)\n",
    "#             emb1 = emb1.mean(dim=0)\n",
    "#             emb2 = emb2.mean(dim=0)     \n",
    "#         else:\n",
    "#             emb1 = emb1.mean(dim=0)\n",
    "#             emb2 = emb2.mean(dim=0)\n",
    "#             emb1 = F.normalize(emb1, p=2, dim=0)\n",
    "#             emb2 = F.normalize(emb2, p=2, dim=0)      \n",
    "\n",
    "#         d1_diff.append(torch.dist(emb1, emb2, p=2))\n",
    "\n",
    "# fig, ax = plt.subplots()\n",
    "# plt.boxplot([d1_same, d1_diff], positions=[1,0])\n",
    "# ax.set_xlabel('Label')\n",
    "# ax.set_ylabel('Distance')\n",
    "\n",
    "# plt.show()\n",
    "\n",
    "# d1 = d1_same + d1_diff\n",
    "# s1 = [-1*i for i in d1]\n",
    "# label_same = np.ones(len(d1_same))\n",
    "# label_diff = np.zeros(len(d1_diff))\n",
    "# label = list(np.concatenate([label_same, label_diff]))\n",
    "# (tt1, eer1, fpr1, fnr1) = tuneThreshold.tuneThresholdfromScore(s1, label, [1, 0.1])"
   ]
  }
 ],
 "metadata": {
  "kernelspec": {
   "display_name": "Python 3.8.8 ('base')",
   "language": "python",
   "name": "python3"
  },
  "language_info": {
   "codemirror_mode": {
    "name": "ipython",
    "version": 3
   },
   "file_extension": ".py",
   "mimetype": "text/x-python",
   "name": "python",
   "nbconvert_exporter": "python",
   "pygments_lexer": "ipython3",
   "version": "3.8.8"
  },
  "orig_nbformat": 4,
  "vscode": {
   "interpreter": {
    "hash": "37c2112bdabb60b81a1d7aa8b65e7845a85b887fb3f0d445753830fa6b6ef431"
   }
  }
 },
 "nbformat": 4,
 "nbformat_minor": 2
}
