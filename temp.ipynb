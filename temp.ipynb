{
 "cells": [
  {
   "cell_type": "code",
   "execution_count": 8,
   "metadata": {},
   "outputs": [],
   "source": [
    "import os\n",
    "import numpy as np\n",
    "import torch\n",
    "import matplotlib.pyplot as plt"
   ]
  },
  {
   "cell_type": "code",
   "execution_count": 9,
   "metadata": {},
   "outputs": [],
   "source": [
    "# EMBED_DIR = \"/home/doyeolkim/vox_emb/test/\"\n",
    "EMBED_DIR = \"/home/doyeolkim/vox_emb/train/\"\n",
    "# EMBED_DIR = \"/home/doyeolkim/libri_emb/valid2/\""
   ]
  },
  {
   "cell_type": "code",
   "execution_count": 10,
   "metadata": {},
   "outputs": [],
   "source": [
    "def get_spk_mat(target_path):\n",
    "    \n",
    "    '''\n",
    "    target_path 내에 있는 모든 임베딩 벡터 npy 파일을\n",
    "    평균을 내서 저장.\n",
    "    '''\n",
    "    \n",
    "    np_list = []\n",
    "    \n",
    "    for root, directories, filenames in os.walk(target_path):\n",
    "        for filename in filenames:\n",
    "            if str.endswith(filename, '.npy'):\n",
    "                emb = np.load(root + '/' + filename)\n",
    "                assert emb.shape == (10,512)                \n",
    "                emb = np.mean(emb, axis=0)\n",
    "                emb = np.array(torch.nn.functional.normalize(torch.tensor(emb), p=2, dim=0))\n",
    "                np_list.append(emb)\n",
    "    \n",
    "    mat = np.array(np_list)\n",
    "    return mat"
   ]
  },
  {
   "cell_type": "code",
   "execution_count": 11,
   "metadata": {},
   "outputs": [
    {
     "name": "stdout",
     "output_type": "stream",
     "text": [
      "processing (5994/5994)\n",
      "1024580\n",
      "5979\n"
     ]
    }
   ],
   "source": [
    "spk_list = []\n",
    "\n",
    "for i in os.listdir(EMBED_DIR):\n",
    "    if os.path.isdir(EMBED_DIR+i):\n",
    "        spk_list.append(i)\n",
    "        \n",
    "LEAST_FILE_NUM = 3\n",
    "total_file_num = 0\n",
    "\n",
    "spk_cat_num = {}\n",
    "spk_file_num = {}\n",
    "\n",
    "for i, spk in enumerate(spk_list):\n",
    "    print('\\rprocessing ({}/{})'.format(i+1, len(spk_list)), end='')\n",
    "    for file in os.listdir(EMBED_DIR+spk):\n",
    "        cat_path = os.path.join(EMBED_DIR+spk, file)\n",
    "        if os.path.isdir(cat_path):\n",
    "            file_num = len(os.listdir(cat_path))\n",
    "            if file_num < LEAST_FILE_NUM:\n",
    "                continue\n",
    "            total_file_num += file_num\n",
    "            spk_file_num[spk] = spk_file_num.get(spk, 0) + file_num\n",
    "            spk_cat_num[spk] = spk_cat_num.get(spk, 0) + 1\n",
    "\n",
    "print()\n",
    "print(total_file_num)\n",
    "\n",
    "spk_count = 0\n",
    "for spk in spk_list:\n",
    "    if spk_cat_num.get(spk, 0) == 1: continue\n",
    "    spk_count += 1\n",
    "\n",
    "print(spk_count)"
   ]
  },
  {
   "cell_type": "code",
   "execution_count": null,
   "metadata": {},
   "outputs": [],
   "source": [
    "spk_list = []\n",
    "mean_list = []\n",
    "var_list = []\n",
    "spk_mat_list = []\n",
    "\n",
    "for i in os.listdir(EMBED_DIR):\n",
    "    if os.path.isdir(EMBED_DIR+i):\n",
    "        spk_list.append(i)\n",
    "\n",
    "\n",
    "for i, spk in enumerate(spk_list):\n",
    "    if i == 100: break\n",
    "    spk_mat_list.append(get_spk_mat(EMBED_DIR+spk))\n",
    "    print('\\rprocessing ({}/{})'.format(i+1, len(spk_list)), end='')\n",
    "print()\n",
    "\n",
    "\n",
    "for i, spk in enumerate(spk_list):\n",
    "    if i == 100: break\n",
    "    spk_mat = spk_mat_list[i]\n",
    "    comat = np.dot(spk_mat, spk_mat.T)\n",
    "    comat = 1 - comat\n",
    "    distance_arr = comat[np.tril_indices(n=comat.shape[0], k=-1)]\n",
    "    mean_list.append(np.mean(distance_arr))\n",
    "    var_list.append(np.var(distance_arr))\n",
    "    print('\\rprocessing ({}/{})'.format(i+1, len(spk_list)), end='')\n",
    "print()\n",
    "\n",
    "\n",
    "# fig, ax = plt.subplots()\n",
    "# ax2 = ax.twinx()\n",
    "# ax.plot(x[0:len(mean_list)], mean_list, 'b-')\n",
    "# ax2.plot(x[0:len(var_list)], var_list, 'r-')\n",
    "# plt.show()\n",
    "\n",
    "plt.scatter(mean_list, var_list)\n",
    "plt.show()"
   ]
  },
  {
   "cell_type": "code",
   "execution_count": null,
   "metadata": {},
   "outputs": [],
   "source": [
    "# MIN = np.inf\n",
    "# MIN_IDX = 0\n",
    "# for i in range(0, len(mean_list)):\n",
    "#     if mean_list[i]*var_list[i] < MIN:\n",
    "#         MIN_IDX = i\n",
    "#         MIN = mean_list[i]*var_list[i]\n",
    "        \n",
    "# print(MIN_IDX, mean_list[MIN_IDX], var_list[MIN_IDX])"
   ]
  },
  {
   "cell_type": "code",
   "execution_count": null,
   "metadata": {},
   "outputs": [],
   "source": [
    "# print(spk_list[1926])"
   ]
  },
  {
   "cell_type": "code",
   "execution_count": null,
   "metadata": {},
   "outputs": [],
   "source": [
    "cate_list = []\n",
    "cat_mat_list = []\n",
    "cat_mean_list = []\n",
    "cat_var_list = []\n",
    "\n",
    "\n",
    "for i, spk in enumerate(spk_list):\n",
    "    if i == 100: break\n",
    "    for file in os.listdir(EMBED_DIR+spk):\n",
    "        if os.path.isdir(os.path.join(EMBED_DIR+spk, file)):\n",
    "            cate_list.append(file)\n",
    "            cat_mat_list.append(get_spk_mat(os.path.join(EMBED_DIR+spk, file)))\n",
    "    \n",
    "    print('\\rprocessing ({}/{})'.format(i+1, len(spk_list)), end='')\n",
    "\n",
    "\n",
    "print()\n",
    "for i, cat in enumerate(cate_list):\n",
    "    cat_mat = cat_mat_list[i]\n",
    "    if cat_mat.shape[0] < 2: continue\n",
    "    comat = np.dot(cat_mat, cat_mat.T)\n",
    "    comat = 1 - comat\n",
    "    distance_arr = comat[np.tril_indices(n=comat.shape[0], k=-1)]\n",
    "    cat_mean_list.append(np.mean(distance_arr))\n",
    "    cat_var_list.append(np.var(distance_arr))\n",
    "    print('\\rprocessing ({}/{})'.format(i+1, len(cate_list)), end='')"
   ]
  },
  {
   "cell_type": "code",
   "execution_count": null,
   "metadata": {},
   "outputs": [],
   "source": [
    "plt.scatter(cat_mean_list, cat_var_list)\n",
    "plt.show()"
   ]
  },
  {
   "cell_type": "code",
   "execution_count": null,
   "metadata": {},
   "outputs": [],
   "source": [
    "print(np.min(np.array(cat_mean_list)), np.min(np.array(cat_var_list)))"
   ]
  }
 ],
 "metadata": {
  "kernelspec": {
   "display_name": "Python 3.8.8 ('base')",
   "language": "python",
   "name": "python3"
  },
  "language_info": {
   "codemirror_mode": {
    "name": "ipython",
    "version": 3
   },
   "file_extension": ".py",
   "mimetype": "text/x-python",
   "name": "python",
   "nbconvert_exporter": "python",
   "pygments_lexer": "ipython3",
   "version": "3.8.8"
  },
  "orig_nbformat": 4,
  "vscode": {
   "interpreter": {
    "hash": "37c2112bdabb60b81a1d7aa8b65e7845a85b887fb3f0d445753830fa6b6ef431"
   }
  }
 },
 "nbformat": 4,
 "nbformat_minor": 2
}
