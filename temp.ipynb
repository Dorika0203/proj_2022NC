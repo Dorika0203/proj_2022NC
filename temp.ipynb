{
 "cells": [
  {
   "cell_type": "code",
   "execution_count": 1,
   "metadata": {},
   "outputs": [],
   "source": [
    "import os"
   ]
  },
  {
   "cell_type": "code",
   "execution_count": 2,
   "metadata": {},
   "outputs": [],
   "source": [
    "target_path = '../vox_emb/test/'\n",
    "target_list = os.listdir(target_path)\n",
    "user_list = []\n",
    "for file in target_list:\n",
    "    if file.endswith('.npy'):\n",
    "        user_list.append(file[:-4])\n"
   ]
  },
  {
   "cell_type": "code",
   "execution_count": 3,
   "metadata": {},
   "outputs": [
    {
     "name": "stdout",
     "output_type": "stream",
     "text": [
      "40\n"
     ]
    }
   ],
   "source": [
    "print(len(user_list))"
   ]
  },
  {
   "cell_type": "code",
   "execution_count": 4,
   "metadata": {},
   "outputs": [],
   "source": [
    "f = open('./data/test_list2.txt', 'w')"
   ]
  },
  {
   "cell_type": "code",
   "execution_count": 5,
   "metadata": {},
   "outputs": [],
   "source": [
    "for userid in user_list:\n",
    "    user_path = target_path+userid+'/'\n",
    "    \n",
    "    for root, dirs, files in os.walk(user_path):\n",
    "        for file in files:\n",
    "            if file.endswith('.npy'):\n",
    "                line = userid + ' ' + root[16:]+'/'+file + '\\n'\n",
    "                f.write(line)\n",
    "\n",
    "f.close()"
   ]
  },
  {
   "cell_type": "code",
   "execution_count": null,
   "metadata": {},
   "outputs": [],
   "source": []
  }
 ],
 "metadata": {
  "kernelspec": {
   "display_name": "Python 3.8.8 ('base')",
   "language": "python",
   "name": "python3"
  },
  "language_info": {
   "codemirror_mode": {
    "name": "ipython",
    "version": 3
   },
   "file_extension": ".py",
   "mimetype": "text/x-python",
   "name": "python",
   "nbconvert_exporter": "python",
   "pygments_lexer": "ipython3",
   "version": "3.8.8"
  },
  "orig_nbformat": 4,
  "vscode": {
   "interpreter": {
    "hash": "37c2112bdabb60b81a1d7aa8b65e7845a85b887fb3f0d445753830fa6b6ef431"
   }
  }
 },
 "nbformat": 4,
 "nbformat_minor": 2
}
