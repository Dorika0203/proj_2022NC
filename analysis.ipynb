{
 "cells": [
  {
   "cell_type": "code",
   "execution_count": 6,
   "metadata": {},
   "outputs": [],
   "source": [
    "import sys, time, os, argparse\n",
    "import yaml\n",
    "import numpy\n",
    "import torch\n",
    "import glob\n",
    "import zipfile\n",
    "import warnings\n",
    "import datetime\n",
    "from tuneThreshold import *\n",
    "from SpeakerNet import *\n",
    "from DatasetLoader import *\n",
    "import torch.distributed as dist\n",
    "import torch.multiprocessing as mp\n",
    "warnings.simplefilter(\"ignore\")"
   ]
  },
  {
   "cell_type": "code",
   "execution_count": 3,
   "metadata": {},
   "outputs": [],
   "source": [
    "## ===== ===== ===== ===== ===== ===== ===== =====\n",
    "## Parse arguments\n",
    "## ===== ===== ===== ===== ===== ===== ===== =====\n",
    "\n",
    "parser = argparse.ArgumentParser(description = \"SpeakerNet\")\n",
    "\n",
    "parser.add_argument('--config',         type=str,   default=None,   help='Config YAML file')\n",
    "\n",
    "## Data loader\n",
    "parser.add_argument('--max_frames',     type=int,   default=200,    help='Input length to the network for training')\n",
    "parser.add_argument('--eval_frames',    type=int,   default=300,    help='Input length to the network for testing 0 uses the whole files')\n",
    "parser.add_argument('--batch_size',     type=int,   default=200,    help='Batch size, number of speakers per batch')\n",
    "parser.add_argument('--max_seg_per_spk', type=int,  default=500,    help='Maximum number of utterances per speaker per epoch')\n",
    "parser.add_argument('--nDataLoaderThread', type=int, default=5,     help='Number of loader threads')\n",
    "parser.add_argument('--augment',        type=bool,  default=False,  help='Augment input')\n",
    "parser.add_argument('--seed',           type=int,   default=10,     help='Seed for the random number generator')\n",
    "\n",
    "## Training details\n",
    "parser.add_argument('--test_interval',  type=int,   default=10,     help='Test and save every [test_interval] epochs')\n",
    "parser.add_argument('--max_epoch',      type=int,   default=500,    help='Maximum number of epochs')\n",
    "parser.add_argument('--trainfunc',      type=str,   default=\"\",     help='Loss function')\n",
    "\n",
    "## Optimizer\n",
    "parser.add_argument('--optimizer',      type=str,   default=\"adam\", help='sgd or adam')\n",
    "parser.add_argument('--scheduler',      type=str,   default=\"steplr\", help='Learning rate scheduler')\n",
    "parser.add_argument('--lr',             type=float, default=0.001,  help='Learning rate')\n",
    "parser.add_argument(\"--lr_decay\",       type=float, default=0.95,   help='Learning rate decay every [test_interval] epochs')\n",
    "parser.add_argument('--weight_decay',   type=float, default=0,      help='Weight decay in the optimizer')\n",
    "\n",
    "## Loss functions\n",
    "parser.add_argument(\"--hard_prob\",      type=float, default=0.5,    help='Hard negative mining probability, otherwise random, only for some loss functions')\n",
    "parser.add_argument(\"--hard_rank\",      type=int,   default=10,     help='Hard negative mining rank in the batch, only for some loss functions')\n",
    "parser.add_argument('--margin',         type=float, default=0.1,    help='Loss margin, only for some loss functions')\n",
    "parser.add_argument('--scale',          type=float, default=30,     help='Loss scale, only for some loss functions')\n",
    "parser.add_argument('--nPerSpeaker',    type=int,   default=1,      help='Number of utterances per speaker per batch, only for metric learning based losses')\n",
    "parser.add_argument('--nClasses',       type=int,   default=5994,   help='Number of speakers in the softmax layer, only for softmax-based losses')\n",
    "\n",
    "## Evaluation parameters\n",
    "parser.add_argument('--dcf_p_target',   type=float, default=0.05,   help='A priori probability of the specified target speaker')\n",
    "parser.add_argument('--dcf_c_miss',     type=float, default=1,      help='Cost of a missed detection')\n",
    "parser.add_argument('--dcf_c_fa',       type=float, default=1,      help='Cost of a spurious detection')\n",
    "\n",
    "## Load and save\n",
    "parser.add_argument('--initial_model',  type=str,   default=\"\",     help='Initial model weights')\n",
    "parser.add_argument('--save_path',      type=str,   default=\"exps/exp1\", help='Path for model and logs')\n",
    "\n",
    "## Training and test data\n",
    "parser.add_argument('--train_list',     type=str,   default=\"data/train_list.txt\",  help='Train list')\n",
    "parser.add_argument('--test_list',      type=str,   default=\"data/test_list.txt\",   help='Evaluation list')\n",
    "parser.add_argument('--train_path',     type=str,   default=\"data/voxceleb2\", help='Absolute path to the train set')\n",
    "parser.add_argument('--test_path',      type=str,   default=\"data/voxceleb1\", help='Absolute path to the test set')\n",
    "parser.add_argument('--musan_path',     type=str,   default=\"data/musan_split\", help='Absolute path to the test set')\n",
    "parser.add_argument('--rir_path',       type=str,   default=\"data/RIRS_NOISES/simulated_rirs\", help='Absolute path to the test set')\n",
    "\n",
    "## Model definition\n",
    "parser.add_argument('--n_mels',         type=int,   default=40,     help='Number of mel filterbanks')\n",
    "parser.add_argument('--log_input',      type=bool,  default=False,  help='Log input features')\n",
    "parser.add_argument('--model',          type=str,   default=\"\",     help='Name of model definition')\n",
    "parser.add_argument('--encoder_type',   type=str,   default=\"SAP\",  help='Type of encoder')\n",
    "parser.add_argument('--nOut',           type=int,   default=512,    help='Embedding size in the last FC layer')\n",
    "parser.add_argument('--sinc_stride',    type=int,   default=10,    help='Stride size of the first analytic filterbank layer of RawNet3')\n",
    "\n",
    "## For test only\n",
    "parser.add_argument('--eval',           dest='eval', action='store_true', help='Eval only')\n",
    "\n",
    "## Distributed and mixed precision training\n",
    "parser.add_argument('--port',           type=str,   default=\"8888\", help='Port for distributed training, input as text')\n",
    "parser.add_argument('--distributed',    dest='distributed', action='store_true', help='Enable distributed training')\n",
    "parser.add_argument('--mixedprec',      dest='mixedprec',   action='store_true', help='Enable mixed precision training')\n",
    "\n",
    "args = parser.parse_args(args=[])\n",
    "args.config = 'configs/analysis.yaml'\n",
    "\n",
    "## Parse YAML\n",
    "def find_option_type(key, parser):\n",
    "    for opt in parser._get_optional_actions():\n",
    "        if ('--' + key) in opt.option_strings:\n",
    "           return opt.type\n",
    "    raise ValueError\n",
    "\n",
    "if args.config is not None:\n",
    "    with open(args.config, \"r\") as f:\n",
    "        yml_config = yaml.load(f, Loader=yaml.FullLoader)\n",
    "    for k, v in yml_config.items():\n",
    "        if k in args.__dict__:\n",
    "            typ = find_option_type(k, parser)\n",
    "            args.__dict__[k] = typ(v)\n",
    "        else:\n",
    "            sys.stderr.write(\"Ignored unknown parameter {} in yaml.\\n\".format(k))"
   ]
  },
  {
   "cell_type": "code",
   "execution_count": 4,
   "metadata": {},
   "outputs": [
    {
     "name": "stdout",
     "output_type": "stream",
     "text": [
      "Embedding size is 512, encoder ASP.\n",
      "Initialised Softmax Loss\n",
      "Initialised AngleProto\n",
      "Initialised SoftmaxPrototypical Loss\n"
     ]
    }
   ],
   "source": [
    "# get model\n",
    "model = SpeakerNet(**vars(args))\n",
    "\n",
    "# get data\n"
   ]
  },
  {
   "cell_type": "code",
   "execution_count": null,
   "metadata": {},
   "outputs": [],
   "source": []
  }
 ],
 "metadata": {
  "kernelspec": {
   "display_name": "Python 3.8.8 ('base')",
   "language": "python",
   "name": "python3"
  },
  "language_info": {
   "codemirror_mode": {
    "name": "ipython",
    "version": 3
   },
   "file_extension": ".py",
   "mimetype": "text/x-python",
   "name": "python",
   "nbconvert_exporter": "python",
   "pygments_lexer": "ipython3",
   "version": "3.8.8"
  },
  "orig_nbformat": 4,
  "vscode": {
   "interpreter": {
    "hash": "37c2112bdabb60b81a1d7aa8b65e7845a85b887fb3f0d445753830fa6b6ef431"
   }
  }
 },
 "nbformat": 4,
 "nbformat_minor": 2
}
